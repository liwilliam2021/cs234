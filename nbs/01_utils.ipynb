{
 "cells": [
  {
   "attachments": {},
   "cell_type": "markdown",
   "metadata": {},
   "source": [
    "# Util functions\n",
    "\n",
    "> Fill in a module description hered"
   ]
  },
  {
   "cell_type": "code",
   "metadata": {
    "ExecuteTime": {
     "end_time": "2024-05-20T04:42:10.435862Z",
     "start_time": "2024-05-20T04:42:09.960184Z"
    }
   },
   "source": [
    "# | default_exp utils\n",
    "!pip list"
   ],
   "outputs": [
    {
     "name": "stdout",
     "output_type": "stream",
     "text": [
      "Package                  Version     Editable project location\r\n",
      "------------------------ ----------- --------------------------------\r\n",
      "aiohttp                  3.9.5\r\n",
      "aiosignal                1.3.1\r\n",
      "annotated-types          0.6.0\r\n",
      "asttokens                2.4.1\r\n",
      "astunparse               1.6.3\r\n",
      "async-timeout            4.0.3\r\n",
      "attrs                    23.2.0\r\n",
      "backports.tarfile        1.1.1\r\n",
      "certifi                  2024.2.2\r\n",
      "charset-normalizer       3.3.2\r\n",
      "dataclasses-json         0.6.6\r\n",
      "datasets                 2.19.1\r\n",
      "decorator                5.1.1\r\n",
      "dill                     0.3.8\r\n",
      "einops                   0.8.0\r\n",
      "exceptiongroup           1.2.1\r\n",
      "execnb                   0.1.6\r\n",
      "executing                2.0.1\r\n",
      "fastcore                 1.5.38\r\n",
      "filelock                 3.14.0\r\n",
      "frozenlist               1.4.1\r\n",
      "fsspec                   2024.3.1\r\n",
      "ghapi                    1.0.5\r\n",
      "greenlet                 3.0.3\r\n",
      "huggingface-hub          0.23.0\r\n",
      "idna                     3.7\r\n",
      "ipython                  8.24.0\r\n",
      "jaraco.context           5.3.0\r\n",
      "jedi                     0.19.1\r\n",
      "Jinja2                   3.1.4\r\n",
      "jsonpatch                1.33\r\n",
      "jsonpointer              2.4\r\n",
      "langchain                0.2.0\r\n",
      "langchain-core           0.2.0\r\n",
      "langchain-text-splitters 0.2.0\r\n",
      "langsmith                0.1.59\r\n",
      "MarkupSafe               2.1.5\r\n",
      "marshmallow              3.21.2\r\n",
      "matplotlib-inline        0.1.7\r\n",
      "more-itertools           10.2.0\r\n",
      "mpmath                   1.3.0\r\n",
      "multidict                6.0.5\r\n",
      "multiprocess             0.70.16\r\n",
      "mypy-extensions          1.0.0\r\n",
      "nbdev                    2.3.23\r\n",
      "networkx                 3.3\r\n",
      "numpy                    1.26.4\r\n",
      "nvidia-cublas-cu12       12.1.3.1\r\n",
      "nvidia-cuda-cupti-cu12   12.1.105\r\n",
      "nvidia-cuda-nvrtc-cu12   12.1.105\r\n",
      "nvidia-cuda-runtime-cu12 12.1.105\r\n",
      "nvidia-cudnn-cu12        8.9.2.26\r\n",
      "nvidia-cufft-cu12        11.0.2.54\r\n",
      "nvidia-curand-cu12       10.3.2.106\r\n",
      "nvidia-cusolver-cu12     11.4.5.107\r\n",
      "nvidia-cusparse-cu12     12.1.0.106\r\n",
      "nvidia-nccl-cu12         2.20.5\r\n",
      "nvidia-nvjitlink-cu12    12.4.127\r\n",
      "nvidia-nvtx-cu12         12.1.105\r\n",
      "orjson                   3.10.3\r\n",
      "packaging                23.2\r\n",
      "pandas                   2.2.2\r\n",
      "parso                    0.8.4\r\n",
      "pexpect                  4.9.0\r\n",
      "pip                      23.2.1\r\n",
      "prompt-toolkit           3.0.43\r\n",
      "ptyprocess               0.7.0\r\n",
      "pure-eval                0.2.2\r\n",
      "pyarrow                  16.1.0\r\n",
      "pyarrow-hotfix           0.6\r\n",
      "pydantic                 2.7.1\r\n",
      "pydantic_core            2.18.2\r\n",
      "Pygments                 2.18.0\r\n",
      "python-dateutil          2.9.0.post0\r\n",
      "pytz                     2024.1\r\n",
      "PyYAML                   6.0.1\r\n",
      "regex                    2024.5.15\r\n",
      "requests                 2.31.0\r\n",
      "safetensors              0.4.3\r\n",
      "setuptools               68.2.0\r\n",
      "six                      1.16.0\r\n",
      "SQLAlchemy               2.0.30\r\n",
      "stack-data               0.6.3\r\n",
      "sympy                    1.12\r\n",
      "tenacity                 8.3.0\r\n",
      "tokenizers               0.19.1\r\n",
      "toolformer               0.0.4       /mnt/pycharmprojects/cs234_final\r\n",
      "torch                    2.3.0\r\n",
      "torchtyping              0.1.4\r\n",
      "tqdm                     4.66.4\r\n",
      "traitlets                5.14.3\r\n",
      "transformers             4.41.0\r\n",
      "triton                   2.3.0\r\n",
      "typeguard                4.2.1\r\n",
      "typing_extensions        4.11.0\r\n",
      "typing-inspect           0.9.0\r\n",
      "tzdata                   2024.1\r\n",
      "urllib3                  2.2.1\r\n",
      "watchdog                 4.0.0\r\n",
      "wcwidth                  0.2.13\r\n",
      "wheel                    0.41.2\r\n",
      "wolframalpha             5.0.0\r\n",
      "xmltodict                0.13.0\r\n",
      "xxhash                   3.4.1\r\n",
      "yarl                     1.9.4\r\n",
      "\r\n",
      "\u001B[1m[\u001B[0m\u001B[34;49mnotice\u001B[0m\u001B[1;39;49m]\u001B[0m\u001B[39;49m A new release of pip is available: \u001B[0m\u001B[31;49m23.2.1\u001B[0m\u001B[39;49m -> \u001B[0m\u001B[32;49m24.0\u001B[0m\r\n",
      "\u001B[1m[\u001B[0m\u001B[34;49mnotice\u001B[0m\u001B[1;39;49m]\u001B[0m\u001B[39;49m To update, run: \u001B[0m\u001B[32;49mpython -m pip install --upgrade pip\u001B[0m\r\n"
     ]
    }
   ],
   "execution_count": 2
  },
  {
   "cell_type": "code",
   "metadata": {
    "ExecuteTime": {
     "end_time": "2024-05-20T04:42:42.960640Z",
     "start_time": "2024-05-20T04:42:42.878614Z"
    }
   },
   "source": [
    "# | hide\n",
    "from nbdev.showdoc import *"
   ],
   "outputs": [],
   "execution_count": 3
  },
  {
   "cell_type": "code",
   "metadata": {
    "ExecuteTime": {
     "end_time": "2024-05-20T04:42:45.538488Z",
     "start_time": "2024-05-20T04:42:45.488392Z"
    }
   },
   "source": [
    "#| hide\n",
    "import nbdev; nbdev.nbdev_export()"
   ],
   "outputs": [],
   "execution_count": 4
  },
  {
   "cell_type": "code",
   "metadata": {
    "ExecuteTime": {
     "end_time": "2024-05-20T04:42:46.598055Z",
     "start_time": "2024-05-20T04:42:46.564321Z"
    }
   },
   "source": [
    "#| export\n",
    "import yaml\n",
    "import re\n",
    "from typing import Optional"
   ],
   "outputs": [],
   "execution_count": 5
  },
  {
   "cell_type": "code",
   "metadata": {
    "ExecuteTime": {
     "end_time": "2024-05-20T04:42:49.646209Z",
     "start_time": "2024-05-20T04:42:49.640386Z"
    }
   },
   "source": [
    "#| export\n",
    "def yaml2dict(file_path):\n",
    "    with open(file_path, \"r\") as file:\n",
    "        data = yaml.safe_load(file)\n",
    "    return data"
   ],
   "outputs": [],
   "execution_count": 6
  },
  {
   "cell_type": "code",
   "metadata": {
    "ExecuteTime": {
     "end_time": "2024-05-20T04:42:51.152069Z",
     "start_time": "2024-05-20T04:42:51.147250Z"
    }
   },
   "source": [
    "#| export\n",
    "def extract_api_content(text: str, api_name: str) -> str:\n",
    "    \"\"\"Extract the content of an API request from a given text.\"\"\"\n",
    "    start_tag = f\"{api_name}(\"\n",
    "    end_tag = \")\"\n",
    "    start_idx = text.find(start_tag)\n",
    "    if start_idx == -1:\n",
    "        return None\n",
    "    start_idx += len(start_tag)\n",
    "    end_idx = text.find(end_tag, start_idx)\n",
    "    if end_idx == -1:\n",
    "        return None\n",
    "    return text[start_idx:end_idx]"
   ],
   "outputs": [],
   "execution_count": 7
  },
  {
   "cell_type": "code",
   "metadata": {
    "ExecuteTime": {
     "end_time": "2024-05-20T04:42:52.634277Z",
     "start_time": "2024-05-20T04:42:52.629486Z"
    }
   },
   "source": [
    "#| export\n",
    "def extract_api_syntax(text: str, api_name: str) -> str:\n",
    "    \"\"\"Extract the API Syntax from a given text.\"\"\"\n",
    "    pattern = r\"\\[{}\\(.*?\\)\\]\".format(api_name)\n",
    "    matches = re.findall(pattern, text)\n",
    "    return matches"
   ],
   "outputs": [],
   "execution_count": 8
  },
  {
   "cell_type": "code",
   "metadata": {
    "ExecuteTime": {
     "end_time": "2024-05-20T04:42:53.068401Z",
     "start_time": "2024-05-20T04:42:53.065414Z"
    }
   },
   "source": [
    "#| export\n",
    "def extract_api_name(text: str, is_end_token: bool = True) -> Optional[str]:\n",
    "    if is_end_token:\n",
    "        pattern = r'\\[(\\w+)\\(.+\\]\\s?'\n",
    "    else:\n",
    "        pattern = r'\\[(\\w+)\\(.+\\s?'\n",
    "    \n",
    "    match = re.search(pattern, text)\n",
    "\n",
    "    if match:\n",
    "        return match.group(1)\n",
    "    else:\n",
    "        return None"
   ],
   "outputs": [],
   "execution_count": 9
  },
  {
   "metadata": {},
   "cell_type": "code",
   "outputs": [],
   "execution_count": null,
   "source": ""
  }
 ],
 "metadata": {
  "kernelspec": {
   "display_name": "python3",
   "language": "python",
   "name": "python3"
  }
 },
 "nbformat": 4,
 "nbformat_minor": 2
}
