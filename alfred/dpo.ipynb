{
 "cells": [
  {
   "cell_type": "code",
   "execution_count": 9,
   "id": "252610194b18273e",
   "metadata": {
    "ExecuteTime": {
     "end_time": "2024-06-05T00:08:05.668365Z",
     "start_time": "2024-06-05T00:08:00.821412Z"
    },
    "collapsed": false,
    "jupyter": {
     "outputs_hidden": false
    }
   },
   "outputs": [],
   "source": [
    "import os\n",
    "\n",
    "import torch\n",
    "from transformers import AutoModelForCausalLM, AutoTokenizer\n",
    "from trl import DPOTrainer, DPOConfig\n",
    "from datasets import load_dataset, Dataset\n",
    "import json\n",
    "from tqdm import tqdm\n",
    "\n",
    "import csv\n",
    "\n",
    "from dvc.repo import Repo\n",
    "\n",
    "import yaml\n",
    "from pathlib import Path"
   ]
  },
  {
   "cell_type": "code",
   "execution_count": 10,
   "id": "b379bf6f4937b517",
   "metadata": {
    "collapsed": false,
    "jupyter": {
     "outputs_hidden": false
    }
   },
   "outputs": [],
   "source": [
    "%%bash --out TOP_LEVEL\n",
    "printf \"$(git rev-parse --show-toplevel)\""
   ]
  },
  {
   "cell_type": "code",
   "execution_count": 11,
   "id": "3cc76d2cc310b37d",
   "metadata": {
    "collapsed": false,
    "jupyter": {
     "outputs_hidden": false
    }
   },
   "outputs": [],
   "source": [
    "# set working directory to root of git repo\n",
    "config = yaml.safe_load(Path(TOP_LEVEL + '/configs/default.yaml').read_text())\n",
    "match config['model']['torch_dtype']:\n",
    "    case 'float16':\n",
    "        torch_dtype = torch.float16\n",
    "    case 'float32':\n",
    "        torch_dtype = torch.float32\n",
    "    case 'float64':\n",
    "        torch_dtype = torch.float64\n",
    "    case 'bfloat16':\n",
    "        torch_dtype = torch.bfloat16\n",
    "    case 'auto':\n",
    "        torch_dtype = \"auto\"\n",
    "    case _:\n",
    "        raise ValueError('torch_dtype is invalid')"
   ]
  },
  {
   "cell_type": "code",
   "execution_count": 12,
   "id": "dff70a2b-3550-4683-9c36-2ecf3988e264",
   "metadata": {
    "collapsed": false,
    "jupyter": {
     "outputs_hidden": false
    }
   },
   "outputs": [],
   "source": [
    "# load model and dataset - dataset needs to be in a specific format\n",
    "model = AutoModelForCausalLM.from_pretrained(config[\"model\"][\"path\"],torch_dtype=torch_dtype)\n",
    "tokenizer = AutoTokenizer.from_pretrained(config[\"model\"][\"path\"])\n",
    "tokenizer.pad_token = tokenizer.eos_token"
   ]
  },
  {
   "cell_type": "code",
   "execution_count": 19,
   "id": "18566465-0899-48e9-b635-921d2000783d",
   "metadata": {
    "collapsed": false,
    "jupyter": {
     "outputs_hidden": false
    }
   },
   "outputs": [],
   "source": [
    "NUM_TRAIN_EPOCHS = 100\n",
    "OUTPUT_DIR = TOP_LEVEL + f\"/alfred/output/{config['model']['path']},torch_dtype={torch_dtype}/epoch={NUM_TRAIN_EPOCHS}\"\n",
    "#os.makedirs(os.path.dirname(OUTPUT_DIR), exist_ok=True)\n",
    "os.makedirs(OUTPUT_DIR, exist_ok=True)"
   ]
  },
  {
   "cell_type": "code",
   "execution_count": 14,
   "id": "382a75b0-b8a3-4cd0-b518-c0677a11934a",
   "metadata": {
    "collapsed": false,
    "jupyter": {
     "outputs_hidden": false
    }
   },
   "outputs": [],
   "source": [
    "# get dataset\n",
    "#train_dataset = load_dataset(\"imdb\", split=\"train\")\n",
    "\n",
    "with open(TOP_LEVEL+'/generated_data/Weather.csv', mode='r') as f:\n",
    "    data_reader = csv.DictReader(f)\n",
    "    # with open('coors_new.csv', mode='w') as outfile:\n",
    "    #     writer = csv.writer(outfile)\n",
    "    #     mydict = {rows[0]:rows[1] for rows in reader}\n",
    "    dpo_dataset_dict = {}\n",
    "    dpo_dataset_dict[\"prompt\"] = []\n",
    "    dpo_dataset_dict[\"chosen\"] = []\n",
    "    dpo_dataset_dict[\"rejected\"] = []\n",
    "    for row in data_reader:\n",
    "        dpo_dataset_dict[\"prompt\"].append(row[\"input\"])\n",
    "        dpo_dataset_dict[\"chosen\"].append(row[\"text\"])\n",
    "        dpo_dataset_dict[\"rejected\"].append(row[\"candidate\"])\n",
    "\n",
    "# copy the dataset used to the output directory\n",
    "!cp {TOP_LEVEL+'/generated_data/Weather.csv'} {OUTPUT_DIR+'/Weather.csv'}\n",
    "\n",
    "train_dataset = Dataset.from_dict(dpo_dataset_dict)\n",
    "#print(train_dataset[\"prompt\"][0])"
   ]
  },
  {
   "cell_type": "code",
   "execution_count": 15,
   "id": "d500aa60-c307-4c2b-9105-e958929ce659",
   "metadata": {},
   "outputs": [
    {
     "name": "stderr",
     "output_type": "stream",
     "text": [
      "/mnt/host/cs234_final/venv/lib/python3.10/site-packages/trl/trainer/dpo_trainer.py:363: UserWarning: `max_length` is not set in the DPOConfig's init it will default to `512` by default, but you should do it yourself in the future.\n",
      "  warnings.warn(\n",
      "/mnt/host/cs234_final/venv/lib/python3.10/site-packages/trl/trainer/dpo_trainer.py:376: UserWarning: `max_prompt_length` is not set in the DPOConfig's init it will default to `128` by default, but you should do it yourself in the future.\n",
      "  warnings.warn(\n",
      "/mnt/host/cs234_final/venv/lib/python3.10/site-packages/trl/trainer/dpo_trainer.py:411: UserWarning: When using DPODataCollatorWithPadding, you should set `remove_unused_columns=False` in your TrainingArguments we have set it for you, but you should do it yourself in the future.\n",
      "  warnings.warn(\n",
      "Map: 100%|██████████| 281/281 [00:00<00:00, 2531.40 examples/s]\n",
      "Could not estimate the number of tokens of the input, floating-point operations will not be computed\n"
     ]
    },
    {
     "data": {
      "text/html": [
       "\n",
       "    <div>\n",
       "      \n",
       "      <progress value='3600' max='3600' style='width:300px; height:20px; vertical-align: middle;'></progress>\n",
       "      [3600/3600 17:35, Epoch 100/100]\n",
       "    </div>\n",
       "    <table border=\"1\" class=\"dataframe\">\n",
       "  <thead>\n",
       " <tr style=\"text-align: left;\">\n",
       "      <th>Step</th>\n",
       "      <th>Training Loss</th>\n",
       "    </tr>\n",
       "  </thead>\n",
       "  <tbody>\n",
       "    <tr>\n",
       "      <td>500</td>\n",
       "      <td>0.347400</td>\n",
       "    </tr>\n",
       "    <tr>\n",
       "      <td>1000</td>\n",
       "      <td>0.000000</td>\n",
       "    </tr>\n",
       "    <tr>\n",
       "      <td>1500</td>\n",
       "      <td>0.000000</td>\n",
       "    </tr>\n",
       "    <tr>\n",
       "      <td>2000</td>\n",
       "      <td>0.000000</td>\n",
       "    </tr>\n",
       "    <tr>\n",
       "      <td>2500</td>\n",
       "      <td>0.000000</td>\n",
       "    </tr>\n",
       "    <tr>\n",
       "      <td>3000</td>\n",
       "      <td>0.000000</td>\n",
       "    </tr>\n",
       "    <tr>\n",
       "      <td>3500</td>\n",
       "      <td>0.000000</td>\n",
       "    </tr>\n",
       "  </tbody>\n",
       "</table><p>"
      ],
      "text/plain": [
       "<IPython.core.display.HTML object>"
      ]
     },
     "metadata": {},
     "output_type": "display_data"
    }
   ],
   "source": [
    "# load trainer\n",
    "\n",
    "training_args = DPOConfig(\n",
    "    beta=0.1,\n",
    "    # does not automatically save model output\n",
    "    output_dir=OUTPUT_DIR,\n",
    "    num_train_epochs=NUM_TRAIN_EPOCHS\n",
    ")\n",
    "trainer = DPOTrainer(\n",
    "    model=model,\n",
    "    args=training_args,\n",
    "    tokenizer=tokenizer,\n",
    "    train_dataset=train_dataset,\n",
    ")\n",
    "\n",
    "# train\n",
    "results = trainer.train()"
   ]
  },
  {
   "cell_type": "code",
   "execution_count": 16,
   "id": "3cea2aa0-6813-4ab1-bfa0-02abd09f5a24",
   "metadata": {},
   "outputs": [],
   "source": [
    "# save results\n",
    "with open(f\"{OUTPUT_DIR}/results.json\", \"w\") as f:\n",
    "    json.dump(results.metrics, f)\n",
    "#model.save_pretrained(OUTPUT_DIR)\n",
    "trainer.save_model(OUTPUT_DIR+'/final')"
   ]
  },
  {
   "cell_type": "code",
   "execution_count": 21,
   "id": "d6c2c94a-3c7b-4251-a68d-452d2b113719",
   "metadata": {
    "ExecuteTime": {
     "end_time": "2024-06-04T23:59:26.741360Z",
     "start_time": "2024-06-04T23:59:26.128101Z"
    }
   },
   "outputs": [
    {
     "data": {
      "text/html": [
       "<pre style=\"white-space:pre;overflow-x:auto;line-height:normal;font-family:Menlo,'DejaVu Sans Mono',consolas,'Courier New',monospace\"></pre>\n"
      ],
      "text/plain": []
     },
     "metadata": {},
     "output_type": "display_data"
    },
    {
     "name": "stdout",
     "output_type": "stream",
     "text": [
      "Computing md5 for a large file '/mnt/host/cs234_final/alfred/output/bigscience/bloom-1b1,torch_dtype=torch.float16/epoch=100/checkpoint-500/model.safetensors'. This is only done once.\n",
      "Computing md5 for a large file '/mnt/host/cs234_final/alfred/output/bigscience/bloom-1b1,torch_dtype=torch.float16/epoch=100/checkpoint-500/optimizer.pt'. This is only done once.\n",
      "Computing md5 for a large file '/mnt/host/cs234_final/alfred/output/bigscience/bloom-1b1,torch_dtype=torch.float16/epoch=100/checkpoint-1000/model.safetensors'. This is only done once.\n",
      "Computing md5 for a large file '/mnt/host/cs234_final/alfred/output/bigscience/bloom-1b1,torch_dtype=torch.float16/epoch=100/checkpoint-1000/optimizer.pt'. This is only done once.\n",
      "Computing md5 for a large file '/mnt/host/cs234_final/alfred/output/bigscience/bloom-1b1,torch_dtype=torch.float16/epoch=100/checkpoint-1500/model.safetensors'. This is only done once.\n",
      "Computing md5 for a large file '/mnt/host/cs234_final/alfred/output/bigscience/bloom-1b1,torch_dtype=torch.float16/epoch=100/checkpoint-1500/optimizer.pt'. This is only done once.\n",
      "Computing md5 for a large file '/mnt/host/cs234_final/alfred/output/bigscience/bloom-1b1,torch_dtype=torch.float16/epoch=100/checkpoint-2000/model.safetensors'. This is only done once.\n",
      "Computing md5 for a large file '/mnt/host/cs234_final/alfred/output/bigscience/bloom-1b1,torch_dtype=torch.float16/epoch=100/checkpoint-2000/optimizer.pt'. This is only done once.\n",
      "Computing md5 for a large file '/mnt/host/cs234_final/alfred/output/bigscience/bloom-1b1,torch_dtype=torch.float16/epoch=100/checkpoint-2500/model.safetensors'. This is only done once.\n",
      "Computing md5 for a large file '/mnt/host/cs234_final/alfred/output/bigscience/bloom-1b1,torch_dtype=torch.float16/epoch=100/checkpoint-2500/optimizer.pt'. This is only done once.\n",
      "Computing md5 for a large file '/mnt/host/cs234_final/alfred/output/bigscience/bloom-1b1,torch_dtype=torch.float16/epoch=100/checkpoint-3000/model.safetensors'. This is only done once.\n",
      "Computing md5 for a large file '/mnt/host/cs234_final/alfred/output/bigscience/bloom-1b1,torch_dtype=torch.float16/epoch=100/checkpoint-3000/optimizer.pt'. This is only done once.\n",
      "Computing md5 for a large file '/mnt/host/cs234_final/alfred/output/bigscience/bloom-1b1,torch_dtype=torch.float16/epoch=100/checkpoint-3500/model.safetensors'. This is only done once.\n",
      "Computing md5 for a large file '/mnt/host/cs234_final/alfred/output/bigscience/bloom-1b1,torch_dtype=torch.float16/epoch=100/checkpoint-3500/optimizer.pt'. This is only done once.\n",
      "Computing md5 for a large file '/mnt/host/cs234_final/alfred/output/bigscience/bloom-1b1,torch_dtype=torch.float16/epoch=100/final/model.safetensors'. This is only done once.\n",
      "\n",
      "To track the changes with git, run:\n",
      "\n",
      "\tgit add output.dvc\n",
      "\n",
      "To enable auto staging, run:\n",
      "\n",
      "\tdvc config core.autostage true\n"
     ]
    },
    {
     "ename": "KeyboardInterrupt",
     "evalue": "",
     "output_type": "error",
     "traceback": [
      "\u001b[0;31m---------------------------------------------------------------------------\u001b[0m",
      "\u001b[0;31mKeyboardInterrupt\u001b[0m                         Traceback (most recent call last)",
      "Cell \u001b[0;32mIn[21], line 5\u001b[0m\n\u001b[1;32m      3\u001b[0m \u001b[38;5;66;03m#OUTPUT_PATH=\"/mnt/host/cs234_final/alfred/output/bigscience/bloom-560m,torch_dtype=float16/epoch=1000\"\u001b[39;00m\n\u001b[1;32m      4\u001b[0m repo\u001b[38;5;241m.\u001b[39madd(OUTPUT_DIR)\n\u001b[0;32m----> 5\u001b[0m \u001b[43mrepo\u001b[49m\u001b[38;5;241;43m.\u001b[39;49m\u001b[43mpush\u001b[49m\u001b[43m(\u001b[49m\u001b[43m)\u001b[49m\n",
      "File \u001b[0;32m/mnt/host/cs234_final/venv/lib/python3.10/site-packages/dvc/repo/__init__.py:58\u001b[0m, in \u001b[0;36mlocked.<locals>.wrapper\u001b[0;34m(repo, *args, **kwargs)\u001b[0m\n\u001b[1;32m     55\u001b[0m \u001b[38;5;129m@wraps\u001b[39m(f)\n\u001b[1;32m     56\u001b[0m \u001b[38;5;28;01mdef\u001b[39;00m \u001b[38;5;21mwrapper\u001b[39m(repo, \u001b[38;5;241m*\u001b[39margs, \u001b[38;5;241m*\u001b[39m\u001b[38;5;241m*\u001b[39mkwargs):\n\u001b[1;32m     57\u001b[0m     \u001b[38;5;28;01mwith\u001b[39;00m lock_repo(repo):\n\u001b[0;32m---> 58\u001b[0m         \u001b[38;5;28;01mreturn\u001b[39;00m \u001b[43mf\u001b[49m\u001b[43m(\u001b[49m\u001b[43mrepo\u001b[49m\u001b[43m,\u001b[49m\u001b[43m \u001b[49m\u001b[38;5;241;43m*\u001b[39;49m\u001b[43margs\u001b[49m\u001b[43m,\u001b[49m\u001b[43m \u001b[49m\u001b[38;5;241;43m*\u001b[39;49m\u001b[38;5;241;43m*\u001b[39;49m\u001b[43mkwargs\u001b[49m\u001b[43m)\u001b[49m\n",
      "File \u001b[0;32m/mnt/host/cs234_final/venv/lib/python3.10/site-packages/dvc/repo/push.py:147\u001b[0m, in \u001b[0;36mpush\u001b[0;34m(self, targets, jobs, remote, all_branches, with_deps, all_tags, recursive, all_commits, run_cache, revs, workspace, glob)\u001b[0m\n\u001b[1;32m    141\u001b[0m \u001b[38;5;28;01mtry\u001b[39;00m:\n\u001b[1;32m    142\u001b[0m     \u001b[38;5;28;01mwith\u001b[39;00m ui\u001b[38;5;241m.\u001b[39mprogress(\n\u001b[1;32m    143\u001b[0m         desc\u001b[38;5;241m=\u001b[39m\u001b[38;5;124m\"\u001b[39m\u001b[38;5;124mPushing\u001b[39m\u001b[38;5;124m\"\u001b[39m,\n\u001b[1;32m    144\u001b[0m         bar_format\u001b[38;5;241m=\u001b[39m\u001b[38;5;124m\"\u001b[39m\u001b[38;5;132;01m{desc}\u001b[39;00m\u001b[38;5;124m\"\u001b[39m,\n\u001b[1;32m    145\u001b[0m         leave\u001b[38;5;241m=\u001b[39m\u001b[38;5;28;01mTrue\u001b[39;00m,\n\u001b[1;32m    146\u001b[0m     ) \u001b[38;5;28;01mas\u001b[39;00m pb:\n\u001b[0;32m--> 147\u001b[0m         push_transferred, push_failed \u001b[38;5;241m=\u001b[39m \u001b[43mipush\u001b[49m\u001b[43m(\u001b[49m\n\u001b[1;32m    148\u001b[0m \u001b[43m            \u001b[49m\u001b[43mdata\u001b[49m\u001b[43m,\u001b[49m\n\u001b[1;32m    149\u001b[0m \u001b[43m            \u001b[49m\u001b[43mjobs\u001b[49m\u001b[38;5;241;43m=\u001b[39;49m\u001b[43mjobs\u001b[49m\u001b[43m,\u001b[49m\n\u001b[1;32m    150\u001b[0m \u001b[43m            \u001b[49m\u001b[43mcallback\u001b[49m\u001b[38;5;241;43m=\u001b[39;49m\u001b[43mpb\u001b[49m\u001b[38;5;241;43m.\u001b[39;49m\u001b[43mas_callback\u001b[49m\u001b[43m(\u001b[49m\u001b[43m)\u001b[49m\u001b[43m,\u001b[49m\n\u001b[1;32m    151\u001b[0m \u001b[43m        \u001b[49m\u001b[43m)\u001b[49m\n\u001b[1;32m    152\u001b[0m \u001b[38;5;28;01mfinally\u001b[39;00m:\n\u001b[1;32m    153\u001b[0m     ws_idx \u001b[38;5;241m=\u001b[39m indexes\u001b[38;5;241m.\u001b[39mget(\u001b[38;5;124m\"\u001b[39m\u001b[38;5;124mworkspace\u001b[39m\u001b[38;5;124m\"\u001b[39m)\n",
      "File \u001b[0;32m/mnt/host/cs234_final/venv/lib/python3.10/site-packages/dvc_data/index/push.py:76\u001b[0m, in \u001b[0;36mpush\u001b[0;34m(idxs, callback, jobs)\u001b[0m\n\u001b[1;32m     74\u001b[0m \u001b[38;5;28;01mif\u001b[39;00m \u001b[38;5;28misinstance\u001b[39m(cache, ObjectStorage) \u001b[38;5;129;01mand\u001b[39;00m \u001b[38;5;28misinstance\u001b[39m(data, ObjectStorage):\n\u001b[1;32m     75\u001b[0m     \u001b[38;5;28;01mwith\u001b[39;00m TqdmCallback(unit\u001b[38;5;241m=\u001b[39m\u001b[38;5;124m\"\u001b[39m\u001b[38;5;124mfile\u001b[39m\u001b[38;5;124m\"\u001b[39m, desc\u001b[38;5;241m=\u001b[39m\u001b[38;5;124mf\u001b[39m\u001b[38;5;124m\"\u001b[39m\u001b[38;5;124mPushing to \u001b[39m\u001b[38;5;132;01m{\u001b[39;00mdata\u001b[38;5;241m.\u001b[39mfs\u001b[38;5;241m.\u001b[39mprotocol\u001b[38;5;132;01m}\u001b[39;00m\u001b[38;5;124m\"\u001b[39m) \u001b[38;5;28;01mas\u001b[39;00m cb:\n\u001b[0;32m---> 76\u001b[0m         result \u001b[38;5;241m=\u001b[39m \u001b[43mtransfer\u001b[49m\u001b[43m(\u001b[49m\n\u001b[1;32m     77\u001b[0m \u001b[43m            \u001b[49m\u001b[43mcache\u001b[49m\u001b[38;5;241;43m.\u001b[39;49m\u001b[43modb\u001b[49m\u001b[43m,\u001b[49m\n\u001b[1;32m     78\u001b[0m \u001b[43m            \u001b[49m\u001b[43mdata\u001b[49m\u001b[38;5;241;43m.\u001b[39;49m\u001b[43modb\u001b[49m\u001b[43m,\u001b[49m\n\u001b[1;32m     79\u001b[0m \u001b[43m            \u001b[49m\u001b[43m[\u001b[49m\n\u001b[1;32m     80\u001b[0m \u001b[43m                \u001b[49m\u001b[43mentry\u001b[49m\u001b[38;5;241;43m.\u001b[39;49m\u001b[43mhash_info\u001b[49m\n\u001b[1;32m     81\u001b[0m \u001b[43m                \u001b[49m\u001b[38;5;28;43;01mfor\u001b[39;49;00m\u001b[43m \u001b[49m\u001b[43m_\u001b[49m\u001b[43m,\u001b[49m\u001b[43m \u001b[49m\u001b[43mentry\u001b[49m\u001b[43m \u001b[49m\u001b[38;5;129;43;01min\u001b[39;49;00m\u001b[43m \u001b[49m\u001b[43mfs_index\u001b[49m\u001b[38;5;241;43m.\u001b[39;49m\u001b[43miteritems\u001b[49m\u001b[43m(\u001b[49m\u001b[43m)\u001b[49m\n\u001b[1;32m     82\u001b[0m \u001b[43m                \u001b[49m\u001b[38;5;28;43;01mif\u001b[39;49;00m\u001b[43m \u001b[49m\u001b[43mentry\u001b[49m\u001b[38;5;241;43m.\u001b[39;49m\u001b[43mhash_info\u001b[49m\n\u001b[1;32m     83\u001b[0m \u001b[43m            \u001b[49m\u001b[43m]\u001b[49m\u001b[43m,\u001b[49m\n\u001b[1;32m     84\u001b[0m \u001b[43m            \u001b[49m\u001b[43mjobs\u001b[49m\u001b[38;5;241;43m=\u001b[39;49m\u001b[43mjobs\u001b[49m\u001b[43m,\u001b[49m\n\u001b[1;32m     85\u001b[0m \u001b[43m            \u001b[49m\u001b[43mdest_index\u001b[49m\u001b[38;5;241;43m=\u001b[39;49m\u001b[43mget_index\u001b[49m\u001b[43m(\u001b[49m\u001b[43mdata\u001b[49m\u001b[38;5;241;43m.\u001b[39;49m\u001b[43modb\u001b[49m\u001b[43m)\u001b[49m\u001b[43m,\u001b[49m\n\u001b[1;32m     86\u001b[0m \u001b[43m            \u001b[49m\u001b[43mcache_odb\u001b[49m\u001b[38;5;241;43m=\u001b[39;49m\u001b[43mdata\u001b[49m\u001b[38;5;241;43m.\u001b[39;49m\u001b[43modb\u001b[49m\u001b[43m,\u001b[49m\n\u001b[1;32m     87\u001b[0m \u001b[43m            \u001b[49m\u001b[43mvalidate_status\u001b[49m\u001b[38;5;241;43m=\u001b[39;49m\u001b[43m_log_missing\u001b[49m\u001b[43m,\u001b[49m\n\u001b[1;32m     88\u001b[0m \u001b[43m            \u001b[49m\u001b[43mcallback\u001b[49m\u001b[38;5;241;43m=\u001b[39;49m\u001b[43mcb\u001b[49m\u001b[43m,\u001b[49m\n\u001b[1;32m     89\u001b[0m \u001b[43m        \u001b[49m\u001b[43m)\u001b[49m\n\u001b[1;32m     90\u001b[0m         pushed \u001b[38;5;241m+\u001b[39m\u001b[38;5;241m=\u001b[39m \u001b[38;5;28mlen\u001b[39m(result\u001b[38;5;241m.\u001b[39mtransferred)\n\u001b[1;32m     91\u001b[0m         failed \u001b[38;5;241m+\u001b[39m\u001b[38;5;241m=\u001b[39m \u001b[38;5;28mlen\u001b[39m(result\u001b[38;5;241m.\u001b[39mfailed)\n",
      "File \u001b[0;32m/mnt/host/cs234_final/venv/lib/python3.10/site-packages/dvc_data/hashfile/transfer.py:224\u001b[0m, in \u001b[0;36mtransfer\u001b[0;34m(src, dest, obj_ids, jobs, verify, hardlink, validate_status, src_index, dest_index, cache_odb, shallow, callback)\u001b[0m\n\u001b[1;32m    221\u001b[0m callback\u001b[38;5;241m.\u001b[39mset_size(\u001b[38;5;28mlen\u001b[39m(status\u001b[38;5;241m.\u001b[39mnew))\n\u001b[1;32m    222\u001b[0m jobs \u001b[38;5;241m=\u001b[39m jobs \u001b[38;5;129;01mor\u001b[39;00m dest\u001b[38;5;241m.\u001b[39mfs\u001b[38;5;241m.\u001b[39mjobs\n\u001b[0;32m--> 224\u001b[0m failed \u001b[38;5;241m=\u001b[39m \u001b[43m_do_transfer\u001b[49m\u001b[43m(\u001b[49m\n\u001b[1;32m    225\u001b[0m \u001b[43m    \u001b[49m\u001b[43msrc\u001b[49m\u001b[43m,\u001b[49m\n\u001b[1;32m    226\u001b[0m \u001b[43m    \u001b[49m\u001b[43mdest\u001b[49m\u001b[43m,\u001b[49m\n\u001b[1;32m    227\u001b[0m \u001b[43m    \u001b[49m\u001b[43mstatus\u001b[49m\u001b[38;5;241;43m.\u001b[39;49m\u001b[43mnew\u001b[49m\u001b[43m,\u001b[49m\n\u001b[1;32m    228\u001b[0m \u001b[43m    \u001b[49m\u001b[43mstatus\u001b[49m\u001b[38;5;241;43m.\u001b[39;49m\u001b[43mmissing\u001b[49m\u001b[43m,\u001b[49m\n\u001b[1;32m    229\u001b[0m \u001b[43m    \u001b[49m\u001b[43mverify\u001b[49m\u001b[38;5;241;43m=\u001b[39;49m\u001b[43mverify\u001b[49m\u001b[43m,\u001b[49m\n\u001b[1;32m    230\u001b[0m \u001b[43m    \u001b[49m\u001b[43mhardlink\u001b[49m\u001b[38;5;241;43m=\u001b[39;49m\u001b[43mhardlink\u001b[49m\u001b[43m,\u001b[49m\n\u001b[1;32m    231\u001b[0m \u001b[43m    \u001b[49m\u001b[43mcallback\u001b[49m\u001b[38;5;241;43m=\u001b[39;49m\u001b[43mcallback\u001b[49m\u001b[43m,\u001b[49m\n\u001b[1;32m    232\u001b[0m \u001b[43m    \u001b[49m\u001b[43mbatch_size\u001b[49m\u001b[38;5;241;43m=\u001b[39;49m\u001b[43mjobs\u001b[49m\u001b[43m,\u001b[49m\n\u001b[1;32m    233\u001b[0m \u001b[43m    \u001b[49m\u001b[43mcheck_exists\u001b[49m\u001b[38;5;241;43m=\u001b[39;49m\u001b[38;5;28;43;01mFalse\u001b[39;49;00m\u001b[43m,\u001b[49m\n\u001b[1;32m    234\u001b[0m \u001b[43m    \u001b[49m\u001b[43msrc_index\u001b[49m\u001b[38;5;241;43m=\u001b[39;49m\u001b[43msrc_index\u001b[49m\u001b[43m,\u001b[49m\n\u001b[1;32m    235\u001b[0m \u001b[43m    \u001b[49m\u001b[43mdest_index\u001b[49m\u001b[38;5;241;43m=\u001b[39;49m\u001b[43mdest_index\u001b[49m\u001b[43m,\u001b[49m\n\u001b[1;32m    236\u001b[0m \u001b[43m    \u001b[49m\u001b[43mcache_odb\u001b[49m\u001b[38;5;241;43m=\u001b[39;49m\u001b[43mcache_odb\u001b[49m\u001b[43m,\u001b[49m\n\u001b[1;32m    237\u001b[0m \u001b[43m\u001b[49m\u001b[43m)\u001b[49m\n\u001b[1;32m    238\u001b[0m \u001b[38;5;28;01mreturn\u001b[39;00m TransferResult(status\u001b[38;5;241m.\u001b[39mnew \u001b[38;5;241m-\u001b[39m failed, failed)\n",
      "File \u001b[0;32m/mnt/host/cs234_final/venv/lib/python3.10/site-packages/dvc_data/hashfile/transfer.py:93\u001b[0m, in \u001b[0;36m_do_transfer\u001b[0;34m(src, dest, obj_ids, missing_ids, src_index, dest_index, cache_odb, **kwargs)\u001b[0m\n\u001b[1;32m     89\u001b[0m file_ids \u001b[38;5;241m-\u001b[39m\u001b[38;5;241m=\u001b[39m entry_ids\n\u001b[1;32m     91\u001b[0m logger\u001b[38;5;241m.\u001b[39mdebug(\u001b[38;5;124m\"\u001b[39m\u001b[38;5;124mtransfer dir: \u001b[39m\u001b[38;5;132;01m%s\u001b[39;00m\u001b[38;5;124m with \u001b[39m\u001b[38;5;132;01m%d\u001b[39;00m\u001b[38;5;124m files\u001b[39m\u001b[38;5;124m\"\u001b[39m, dir_hash, \u001b[38;5;28mlen\u001b[39m(bound_file_ids))\n\u001b[0;32m---> 93\u001b[0m dir_fails \u001b[38;5;241m=\u001b[39m \u001b[43m_add\u001b[49m\u001b[43m(\u001b[49m\u001b[43msrc\u001b[49m\u001b[43m,\u001b[49m\u001b[43m \u001b[49m\u001b[43mdest\u001b[49m\u001b[43m,\u001b[49m\u001b[43m \u001b[49m\u001b[43mbound_file_ids\u001b[49m\u001b[43m,\u001b[49m\u001b[43m \u001b[49m\u001b[38;5;241;43m*\u001b[39;49m\u001b[38;5;241;43m*\u001b[39;49m\u001b[43mkwargs\u001b[49m\u001b[43m)\u001b[49m\n\u001b[1;32m     94\u001b[0m \u001b[38;5;28;01mif\u001b[39;00m dir_fails:\n\u001b[1;32m     95\u001b[0m     logger\u001b[38;5;241m.\u001b[39mdebug(\n\u001b[1;32m     96\u001b[0m         \u001b[38;5;124m\"\u001b[39m\u001b[38;5;124mfailed to upload full contents of \u001b[39m\u001b[38;5;124m'\u001b[39m\u001b[38;5;132;01m%s\u001b[39;00m\u001b[38;5;124m'\u001b[39m\u001b[38;5;124m, aborting .dir file upload\u001b[39m\u001b[38;5;124m\"\u001b[39m,\n\u001b[1;32m     97\u001b[0m         dir_hash,\n\u001b[1;32m     98\u001b[0m     )\n",
      "File \u001b[0;32m/mnt/host/cs234_final/venv/lib/python3.10/site-packages/dvc_data/hashfile/transfer.py:165\u001b[0m, in \u001b[0;36m_add\u001b[0;34m(src, dest, hash_infos, **kwargs)\u001b[0m\n\u001b[1;32m    163\u001b[0m \u001b[38;5;28;01mfor\u001b[39;00m fs, args \u001b[38;5;129;01min\u001b[39;00m fs_map\u001b[38;5;241m.\u001b[39mitems():\n\u001b[1;32m    164\u001b[0m     paths, oids \u001b[38;5;241m=\u001b[39m \u001b[38;5;28mzip\u001b[39m(\u001b[38;5;241m*\u001b[39margs)\n\u001b[0;32m--> 165\u001b[0m     \u001b[43mdest\u001b[49m\u001b[38;5;241;43m.\u001b[39;49m\u001b[43madd\u001b[49m\u001b[43m(\u001b[49m\n\u001b[1;32m    166\u001b[0m \u001b[43m        \u001b[49m\u001b[38;5;28;43mlist\u001b[39;49m\u001b[43m(\u001b[49m\u001b[43mpaths\u001b[49m\u001b[43m)\u001b[49m\u001b[43m,\u001b[49m\n\u001b[1;32m    167\u001b[0m \u001b[43m        \u001b[49m\u001b[43mfs\u001b[49m\u001b[43m,\u001b[49m\n\u001b[1;32m    168\u001b[0m \u001b[43m        \u001b[49m\u001b[38;5;28;43mlist\u001b[39;49m\u001b[43m(\u001b[49m\u001b[43moids\u001b[49m\u001b[43m)\u001b[49m\u001b[43m,\u001b[49m\n\u001b[1;32m    169\u001b[0m \u001b[43m        \u001b[49m\u001b[43mon_error\u001b[49m\u001b[38;5;241;43m=\u001b[39;49m\u001b[43m_error\u001b[49m\u001b[43m,\u001b[49m\n\u001b[1;32m    170\u001b[0m \u001b[43m        \u001b[49m\u001b[38;5;241;43m*\u001b[39;49m\u001b[38;5;241;43m*\u001b[39;49m\u001b[43mkwargs\u001b[49m\u001b[43m,\u001b[49m\n\u001b[1;32m    171\u001b[0m \u001b[43m    \u001b[49m\u001b[43m)\u001b[49m\n\u001b[1;32m    172\u001b[0m \u001b[38;5;28;01mreturn\u001b[39;00m failed\n",
      "File \u001b[0;32m/mnt/host/cs234_final/venv/lib/python3.10/site-packages/dvc_data/hashfile/db/__init__.py:99\u001b[0m, in \u001b[0;36mHashFileDB.add\u001b[0;34m(self, path, fs, oid, hardlink, callback, check_exists, on_error, **kwargs)\u001b[0m\n\u001b[1;32m     96\u001b[0m         \u001b[38;5;28;01mexcept\u001b[39;00m (ObjectFormatError, \u001b[38;5;167;01mFileNotFoundError\u001b[39;00m):\n\u001b[1;32m     97\u001b[0m             \u001b[38;5;28;01mpass\u001b[39;00m\n\u001b[0;32m---> 99\u001b[0m transferred \u001b[38;5;241m=\u001b[39m \u001b[38;5;28;43msuper\u001b[39;49m\u001b[43m(\u001b[49m\u001b[43m)\u001b[49m\u001b[38;5;241;43m.\u001b[39;49m\u001b[43madd\u001b[49m\u001b[43m(\u001b[49m\n\u001b[1;32m    100\u001b[0m \u001b[43m    \u001b[49m\u001b[43mpaths\u001b[49m\u001b[43m,\u001b[49m\n\u001b[1;32m    101\u001b[0m \u001b[43m    \u001b[49m\u001b[43mfs\u001b[49m\u001b[43m,\u001b[49m\n\u001b[1;32m    102\u001b[0m \u001b[43m    \u001b[49m\u001b[43moids\u001b[49m\u001b[43m,\u001b[49m\n\u001b[1;32m    103\u001b[0m \u001b[43m    \u001b[49m\u001b[43mhardlink\u001b[49m\u001b[38;5;241;43m=\u001b[39;49m\u001b[43mhardlink\u001b[49m\u001b[43m,\u001b[49m\n\u001b[1;32m    104\u001b[0m \u001b[43m    \u001b[49m\u001b[43mcallback\u001b[49m\u001b[38;5;241;43m=\u001b[39;49m\u001b[43mcallback\u001b[49m\u001b[43m,\u001b[49m\n\u001b[1;32m    105\u001b[0m \u001b[43m    \u001b[49m\u001b[43mcheck_exists\u001b[49m\u001b[38;5;241;43m=\u001b[39;49m\u001b[43mcheck_exists\u001b[49m\u001b[43m,\u001b[49m\n\u001b[1;32m    106\u001b[0m \u001b[43m    \u001b[49m\u001b[43mon_error\u001b[49m\u001b[38;5;241;43m=\u001b[39;49m\u001b[43mon_error\u001b[49m\u001b[43m,\u001b[49m\n\u001b[1;32m    107\u001b[0m \u001b[43m    \u001b[49m\u001b[38;5;241;43m*\u001b[39;49m\u001b[38;5;241;43m*\u001b[39;49m\u001b[43mkwargs\u001b[49m\u001b[43m,\u001b[49m\n\u001b[1;32m    108\u001b[0m \u001b[43m\u001b[49m\u001b[43m)\u001b[49m\n\u001b[1;32m    110\u001b[0m \u001b[38;5;28;01mfor\u001b[39;00m oid \u001b[38;5;129;01min\u001b[39;00m oids:\n\u001b[1;32m    111\u001b[0m     cache_path \u001b[38;5;241m=\u001b[39m \u001b[38;5;28mself\u001b[39m\u001b[38;5;241m.\u001b[39moid_to_path(oid)\n",
      "File \u001b[0;32m/mnt/host/cs234_final/venv/lib/python3.10/site-packages/dvc_objects/db.py:187\u001b[0m, in \u001b[0;36mObjectDB.add\u001b[0;34m(self, path, fs, oid, hardlink, callback, check_exists, on_error, **kwargs)\u001b[0m\n\u001b[1;32m    183\u001b[0m jobs: Optional[\u001b[38;5;28mint\u001b[39m] \u001b[38;5;241m=\u001b[39m kwargs\u001b[38;5;241m.\u001b[39mget(\u001b[38;5;124m\"\u001b[39m\u001b[38;5;124mbatch_size\u001b[39m\u001b[38;5;124m\"\u001b[39m, kwargs\u001b[38;5;241m.\u001b[39mget(\u001b[38;5;124m\"\u001b[39m\u001b[38;5;124mjobs\u001b[39m\u001b[38;5;124m\"\u001b[39m))\n\u001b[1;32m    185\u001b[0m callback\u001b[38;5;241m.\u001b[39mset_size(\u001b[38;5;28mlen\u001b[39m(from_paths))\n\u001b[0;32m--> 187\u001b[0m \u001b[43mgeneric\u001b[49m\u001b[38;5;241;43m.\u001b[39;49m\u001b[43mtransfer\u001b[49m\u001b[43m(\u001b[49m\n\u001b[1;32m    188\u001b[0m \u001b[43m    \u001b[49m\u001b[43mfs\u001b[49m\u001b[43m,\u001b[49m\n\u001b[1;32m    189\u001b[0m \u001b[43m    \u001b[49m\u001b[38;5;28;43mlist\u001b[39;49m\u001b[43m(\u001b[49m\u001b[43mfrom_paths\u001b[49m\u001b[43m)\u001b[49m\u001b[43m,\u001b[49m\n\u001b[1;32m    190\u001b[0m \u001b[43m    \u001b[49m\u001b[38;5;28;43mself\u001b[39;49m\u001b[38;5;241;43m.\u001b[39;49m\u001b[43mfs\u001b[49m\u001b[43m,\u001b[49m\n\u001b[1;32m    191\u001b[0m \u001b[43m    \u001b[49m\u001b[43m[\u001b[49m\u001b[38;5;28;43mself\u001b[39;49m\u001b[38;5;241;43m.\u001b[39;49m\u001b[43moid_to_path\u001b[49m\u001b[43m(\u001b[49m\u001b[43mto_oid\u001b[49m\u001b[43m)\u001b[49m\u001b[43m \u001b[49m\u001b[38;5;28;43;01mfor\u001b[39;49;00m\u001b[43m \u001b[49m\u001b[43mto_oid\u001b[49m\u001b[43m \u001b[49m\u001b[38;5;129;43;01min\u001b[39;49;00m\u001b[43m \u001b[49m\u001b[43mto_oids\u001b[49m\u001b[43m]\u001b[49m\u001b[43m,\u001b[49m\n\u001b[1;32m    192\u001b[0m \u001b[43m    \u001b[49m\u001b[43mhardlink\u001b[49m\u001b[38;5;241;43m=\u001b[39;49m\u001b[43mhardlink\u001b[49m\u001b[43m,\u001b[49m\n\u001b[1;32m    193\u001b[0m \u001b[43m    \u001b[49m\u001b[43mcallback\u001b[49m\u001b[38;5;241;43m=\u001b[39;49m\u001b[43mcallback\u001b[49m\u001b[43m,\u001b[49m\n\u001b[1;32m    194\u001b[0m \u001b[43m    \u001b[49m\u001b[43mbatch_size\u001b[49m\u001b[38;5;241;43m=\u001b[39;49m\u001b[43mjobs\u001b[49m\u001b[43m,\u001b[49m\n\u001b[1;32m    195\u001b[0m \u001b[43m    \u001b[49m\u001b[43mon_error\u001b[49m\u001b[38;5;241;43m=\u001b[39;49m\u001b[43m_on_error\u001b[49m\u001b[43m \u001b[49m\u001b[38;5;28;43;01mif\u001b[39;49;00m\u001b[43m \u001b[49m\u001b[43mon_error\u001b[49m\u001b[43m \u001b[49m\u001b[38;5;129;43;01mis\u001b[39;49;00m\u001b[43m \u001b[49m\u001b[38;5;129;43;01mnot\u001b[39;49;00m\u001b[43m \u001b[49m\u001b[38;5;28;43;01mNone\u001b[39;49;00m\u001b[43m \u001b[49m\u001b[38;5;28;43;01melse\u001b[39;49;00m\u001b[43m \u001b[49m\u001b[38;5;28;43;01mNone\u001b[39;49;00m\u001b[43m,\u001b[49m\n\u001b[1;32m    196\u001b[0m \u001b[43m\u001b[49m\u001b[43m)\u001b[49m\n\u001b[1;32m    197\u001b[0m \u001b[38;5;28;01mreturn\u001b[39;00m \u001b[38;5;28mlen\u001b[39m(to_add) \u001b[38;5;241m-\u001b[39m failed\n",
      "File \u001b[0;32m/mnt/host/cs234_final/venv/lib/python3.10/site-packages/dvc_objects/fs/generic.py:338\u001b[0m, in \u001b[0;36mtransfer\u001b[0;34m(from_fs, from_path, to_fs, to_path, hardlink, links, callback, batch_size, on_error)\u001b[0m\n\u001b[1;32m    336\u001b[0m \u001b[38;5;28;01mfor\u001b[39;00m i, (from_p, to_p) \u001b[38;5;129;01min\u001b[39;00m \u001b[38;5;28menumerate\u001b[39m(\u001b[38;5;28mzip\u001b[39m(from_path, to_path)):\n\u001b[1;32m    337\u001b[0m     \u001b[38;5;28;01mif\u001b[39;00m links \u001b[38;5;129;01mand\u001b[39;00m links[\u001b[38;5;241m0\u001b[39m] \u001b[38;5;241m==\u001b[39m \u001b[38;5;124m\"\u001b[39m\u001b[38;5;124mcopy\u001b[39m\u001b[38;5;124m\"\u001b[39m:\n\u001b[0;32m--> 338\u001b[0m         \u001b[43mcopy\u001b[49m\u001b[43m(\u001b[49m\n\u001b[1;32m    339\u001b[0m \u001b[43m            \u001b[49m\u001b[43mfrom_fs\u001b[49m\u001b[43m,\u001b[49m\n\u001b[1;32m    340\u001b[0m \u001b[43m            \u001b[49m\u001b[43mfrom_path\u001b[49m\u001b[43m[\u001b[49m\u001b[43mi\u001b[49m\u001b[43m:\u001b[49m\u001b[43m]\u001b[49m\u001b[43m,\u001b[49m\n\u001b[1;32m    341\u001b[0m \u001b[43m            \u001b[49m\u001b[43mto_fs\u001b[49m\u001b[43m,\u001b[49m\n\u001b[1;32m    342\u001b[0m \u001b[43m            \u001b[49m\u001b[43mto_path\u001b[49m\u001b[43m[\u001b[49m\u001b[43mi\u001b[49m\u001b[43m:\u001b[49m\u001b[43m]\u001b[49m\u001b[43m,\u001b[49m\n\u001b[1;32m    343\u001b[0m \u001b[43m            \u001b[49m\u001b[43mcallback\u001b[49m\u001b[38;5;241;43m=\u001b[39;49m\u001b[43mcallback\u001b[49m\u001b[43m,\u001b[49m\n\u001b[1;32m    344\u001b[0m \u001b[43m            \u001b[49m\u001b[43mbatch_size\u001b[49m\u001b[38;5;241;43m=\u001b[39;49m\u001b[43mbatch_size\u001b[49m\u001b[43m,\u001b[49m\n\u001b[1;32m    345\u001b[0m \u001b[43m            \u001b[49m\u001b[43mon_error\u001b[49m\u001b[38;5;241;43m=\u001b[39;49m\u001b[43mon_error\u001b[49m\u001b[43m,\u001b[49m\n\u001b[1;32m    346\u001b[0m \u001b[43m        \u001b[49m\u001b[43m)\u001b[49m\n\u001b[1;32m    347\u001b[0m         \u001b[38;5;28;01mreturn\u001b[39;00m\n\u001b[1;32m    348\u001b[0m     \u001b[38;5;28;01mtry\u001b[39;00m:\n",
      "File \u001b[0;32m/mnt/host/cs234_final/venv/lib/python3.10/site-packages/dvc_objects/fs/generic.py:88\u001b[0m, in \u001b[0;36mcopy\u001b[0;34m(from_fs, from_path, to_fs, to_path, callback, batch_size, on_error)\u001b[0m\n\u001b[1;32m     85\u001b[0m     to_path \u001b[38;5;241m=\u001b[39m [to_path]\n\u001b[1;32m     87\u001b[0m \u001b[38;5;28;01mif\u001b[39;00m \u001b[38;5;28misinstance\u001b[39m(from_fs, LocalFileSystem):\n\u001b[0;32m---> 88\u001b[0m     \u001b[38;5;28;01mreturn\u001b[39;00m \u001b[43m_put\u001b[49m\u001b[43m(\u001b[49m\n\u001b[1;32m     89\u001b[0m \u001b[43m        \u001b[49m\u001b[43mfrom_path\u001b[49m\u001b[43m,\u001b[49m\n\u001b[1;32m     90\u001b[0m \u001b[43m        \u001b[49m\u001b[43mto_fs\u001b[49m\u001b[43m,\u001b[49m\n\u001b[1;32m     91\u001b[0m \u001b[43m        \u001b[49m\u001b[43mto_path\u001b[49m\u001b[43m,\u001b[49m\n\u001b[1;32m     92\u001b[0m \u001b[43m        \u001b[49m\u001b[43mcallback\u001b[49m\u001b[38;5;241;43m=\u001b[39;49m\u001b[43mcallback\u001b[49m\u001b[43m,\u001b[49m\n\u001b[1;32m     93\u001b[0m \u001b[43m        \u001b[49m\u001b[43mbatch_size\u001b[49m\u001b[38;5;241;43m=\u001b[39;49m\u001b[38;5;241;43m1\u001b[39;49m\u001b[43m \u001b[49m\u001b[38;5;28;43;01mif\u001b[39;49;00m\u001b[43m \u001b[49m\u001b[38;5;28;43misinstance\u001b[39;49m\u001b[43m(\u001b[49m\u001b[43mto_fs\u001b[49m\u001b[43m,\u001b[49m\u001b[43m \u001b[49m\u001b[43mLocalFileSystem\u001b[49m\u001b[43m)\u001b[49m\u001b[43m \u001b[49m\u001b[38;5;28;43;01melse\u001b[39;49;00m\u001b[43m \u001b[49m\u001b[43mbatch_size\u001b[49m\u001b[43m,\u001b[49m\n\u001b[1;32m     94\u001b[0m \u001b[43m        \u001b[49m\u001b[43mon_error\u001b[49m\u001b[38;5;241;43m=\u001b[39;49m\u001b[43mon_error\u001b[49m\u001b[43m,\u001b[49m\n\u001b[1;32m     95\u001b[0m \u001b[43m    \u001b[49m\u001b[43m)\u001b[49m\n\u001b[1;32m     96\u001b[0m \u001b[38;5;28;01mif\u001b[39;00m \u001b[38;5;28misinstance\u001b[39m(to_fs, LocalFileSystem):\n\u001b[1;32m     97\u001b[0m     \u001b[38;5;28;01mreturn\u001b[39;00m _get(\n\u001b[1;32m     98\u001b[0m         from_fs,\n\u001b[1;32m     99\u001b[0m         from_path,\n\u001b[0;32m   (...)\u001b[0m\n\u001b[1;32m    103\u001b[0m         on_error\u001b[38;5;241m=\u001b[39mon_error,\n\u001b[1;32m    104\u001b[0m     )\n",
      "File \u001b[0;32m/mnt/host/cs234_final/venv/lib/python3.10/site-packages/dvc_objects/fs/generic.py:186\u001b[0m, in \u001b[0;36m_put\u001b[0;34m(from_paths, to_fs, to_paths, callback, batch_size, on_error)\u001b[0m\n\u001b[1;32m    173\u001b[0m loop \u001b[38;5;241m=\u001b[39m get_loop()\n\u001b[1;32m    174\u001b[0m fut \u001b[38;5;241m=\u001b[39m asyncio\u001b[38;5;241m.\u001b[39mrun_coroutine_threadsafe(\n\u001b[1;32m    175\u001b[0m     batch_coros(\n\u001b[1;32m    176\u001b[0m         [\n\u001b[0;32m   (...)\u001b[0m\n\u001b[1;32m    184\u001b[0m     loop,\n\u001b[1;32m    185\u001b[0m )\n\u001b[0;32m--> 186\u001b[0m \u001b[38;5;28;01mfor\u001b[39;00m i, result \u001b[38;5;129;01min\u001b[39;00m \u001b[38;5;28menumerate\u001b[39m(\u001b[43mfut\u001b[49m\u001b[38;5;241;43m.\u001b[39;49m\u001b[43mresult\u001b[49m\u001b[43m(\u001b[49m\u001b[43m)\u001b[49m):\n\u001b[1;32m    187\u001b[0m     \u001b[38;5;28;01mif\u001b[39;00m \u001b[38;5;28misinstance\u001b[39m(result, \u001b[38;5;167;01mBaseException\u001b[39;00m):\n\u001b[1;32m    188\u001b[0m         \u001b[38;5;28;01mif\u001b[39;00m on_error \u001b[38;5;129;01mis\u001b[39;00m \u001b[38;5;129;01mnot\u001b[39;00m \u001b[38;5;28;01mNone\u001b[39;00m:\n",
      "File \u001b[0;32m/usr/lib/python3.10/concurrent/futures/_base.py:453\u001b[0m, in \u001b[0;36mFuture.result\u001b[0;34m(self, timeout)\u001b[0m\n\u001b[1;32m    450\u001b[0m \u001b[38;5;28;01melif\u001b[39;00m \u001b[38;5;28mself\u001b[39m\u001b[38;5;241m.\u001b[39m_state \u001b[38;5;241m==\u001b[39m FINISHED:\n\u001b[1;32m    451\u001b[0m     \u001b[38;5;28;01mreturn\u001b[39;00m \u001b[38;5;28mself\u001b[39m\u001b[38;5;241m.\u001b[39m__get_result()\n\u001b[0;32m--> 453\u001b[0m \u001b[38;5;28;43mself\u001b[39;49m\u001b[38;5;241;43m.\u001b[39;49m\u001b[43m_condition\u001b[49m\u001b[38;5;241;43m.\u001b[39;49m\u001b[43mwait\u001b[49m\u001b[43m(\u001b[49m\u001b[43mtimeout\u001b[49m\u001b[43m)\u001b[49m\n\u001b[1;32m    455\u001b[0m \u001b[38;5;28;01mif\u001b[39;00m \u001b[38;5;28mself\u001b[39m\u001b[38;5;241m.\u001b[39m_state \u001b[38;5;129;01min\u001b[39;00m [CANCELLED, CANCELLED_AND_NOTIFIED]:\n\u001b[1;32m    456\u001b[0m     \u001b[38;5;28;01mraise\u001b[39;00m CancelledError()\n",
      "File \u001b[0;32m/usr/lib/python3.10/threading.py:320\u001b[0m, in \u001b[0;36mCondition.wait\u001b[0;34m(self, timeout)\u001b[0m\n\u001b[1;32m    318\u001b[0m \u001b[38;5;28;01mtry\u001b[39;00m:    \u001b[38;5;66;03m# restore state no matter what (e.g., KeyboardInterrupt)\u001b[39;00m\n\u001b[1;32m    319\u001b[0m     \u001b[38;5;28;01mif\u001b[39;00m timeout \u001b[38;5;129;01mis\u001b[39;00m \u001b[38;5;28;01mNone\u001b[39;00m:\n\u001b[0;32m--> 320\u001b[0m         \u001b[43mwaiter\u001b[49m\u001b[38;5;241;43m.\u001b[39;49m\u001b[43macquire\u001b[49m\u001b[43m(\u001b[49m\u001b[43m)\u001b[49m\n\u001b[1;32m    321\u001b[0m         gotit \u001b[38;5;241m=\u001b[39m \u001b[38;5;28;01mTrue\u001b[39;00m\n\u001b[1;32m    322\u001b[0m     \u001b[38;5;28;01melse\u001b[39;00m:\n",
      "\u001b[0;31mKeyboardInterrupt\u001b[0m: "
     ]
    }
   ],
   "source": [
    "# add log to dvc\n",
    "repo = Repo(\".\")\n",
    "#OUTPUT_PATH=\"/mnt/host/cs234_final/alfred/output/bigscience/bloom-560m,torch_dtype=float16/epoch=1000\"\n",
    "repo.add(OUTPUT_DIR)\n",
    "print('starting to push to remote')\n",
    "repo.push()\n",
    "!git add {TOP_LEVEL + '/alfred/output.dvc'}"
   ]
  },
  {
   "cell_type": "code",
   "execution_count": null,
   "id": "initial_id",
   "metadata": {},
   "outputs": [],
   "source": [
    "# load the fine-tuned model\n",
    "model = AutoModelForCausalLM.from_pretrained(OUTPUT_DIR)"
   ]
  },
  {
   "cell_type": "code",
   "execution_count": null,
   "id": "b7d082bf-1fd6-4faf-bda4-31122e40b3c9",
   "metadata": {},
   "outputs": [],
   "source": []
  }
 ],
 "metadata": {
  "kernelspec": {
   "display_name": "Python 3 (ipykernel)",
   "language": "python",
   "name": "python3"
  },
  "language_info": {
   "codemirror_mode": {
    "name": "ipython",
    "version": 3
   },
   "file_extension": ".py",
   "mimetype": "text/x-python",
   "name": "python",
   "nbconvert_exporter": "python",
   "pygments_lexer": "ipython3",
   "version": "3.10.12"
  }
 },
 "nbformat": 4,
 "nbformat_minor": 5
}
