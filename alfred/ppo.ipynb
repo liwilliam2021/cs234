{
 "cells": [
  {
   "cell_type": "code",
   "execution_count": 1,
   "id": "919e59fef4cbdd13",
   "metadata": {
    "ExecuteTime": {
     "end_time": "2024-06-05T04:32:30.056963Z",
     "start_time": "2024-06-05T04:32:27.216465Z"
    }
   },
   "outputs": [
    {
     "name": "stderr",
     "output_type": "stream",
     "text": [
      "/mnt/pycharmprojects/cs234_final/venv/lib/python3.10/site-packages/tqdm/auto.py:21: TqdmWarning: IProgress not found. Please update jupyter and ipywidgets. See https://ipywidgets.readthedocs.io/en/stable/user_install.html\n",
      "  from .autonotebook import tqdm as notebook_tqdm\n"
     ]
    }
   ],
   "source": [
    "import os\n",
    "\n",
    "import torch\n",
    "from transformers import AutoTokenizer\n",
    "from trl import AutoModelForCausalLMWithValueHead, PPOTrainer, PPOConfig\n",
    "from datasets import load_dataset, Dataset\n",
    "import json\n",
    "from tqdm import tqdm\n",
    "\n",
    "from dvc.repo import Repo\n",
    "\n",
    "import yaml\n",
    "from pathlib import Path"
   ]
  },
  {
   "cell_type": "code",
   "execution_count": 2,
   "id": "29c460c90fddddaa",
   "metadata": {
    "ExecuteTime": {
     "end_time": "2024-06-04T04:43:10.601163Z",
     "start_time": "2024-06-04T04:43:10.588138Z"
    }
   },
   "outputs": [],
   "source": [
    "%%bash --out TOP_LEVEL\n",
    "printf \"$(git rev-parse --show-toplevel)\""
   ]
  },
  {
   "cell_type": "code",
   "execution_count": 3,
   "id": "99fe7c700933f9af",
   "metadata": {
    "ExecuteTime": {
     "end_time": "2024-06-04T04:43:11.995253Z",
     "start_time": "2024-06-04T04:43:11.988825Z"
    }
   },
   "outputs": [],
   "source": [
    "# set working directory to root of git repo\n",
    "config = yaml.safe_load(Path(TOP_LEVEL + '/configs/default.yaml').read_text())"
   ]
  },
  {
   "cell_type": "code",
   "execution_count": null,
   "id": "1fe3b3ad-112f-40b7-ade2-1cc377647e39",
   "metadata": {
    "ExecuteTime": {
     "end_time": "2024-06-04T04:43:16.491364Z",
     "start_time": "2024-06-04T04:43:14.995629Z"
    }
   },
   "outputs": [],
   "source": [
    "# load model and dataset - dataset needs to be in a specific format\n",
    "model = AutoModelForCausalLMWithValueHead.from_pretrained(config[\"model\"][\"path\"])\n",
    "ref_model = AutoModelForCausalLMWithValueHead.from_pretrained(config[\"model\"][\"path\"])\n",
    "tokenizer = AutoTokenizer.from_pretrained(config[\"model\"][\"path\"])\n",
    "tokenizer.pad_token = tokenizer.eos_token"
   ]
  },
  {
   "cell_type": "markdown",
   "id": "fccc47a4-13f4-4cbf-bbe9-2c8d98941f9d",
   "metadata": {
    "ExecuteTime": {
     "end_time": "2024-06-04T04:43:16.491364Z",
     "start_time": "2024-06-04T04:43:14.995629Z"
    }
   },
   "source": [
    "# Load data"
   ]
  },
  {
   "cell_type": "code",
   "execution_count": null,
   "id": "ea149254-9cea-43ff-9d08-49bc029abf9f",
   "metadata": {
    "ExecuteTime": {
     "end_time": "2024-06-04T04:43:16.491364Z",
     "start_time": "2024-06-04T04:43:14.995629Z"
    }
   },
   "outputs": [],
   "source": [
    "# load data\n",
    "\n",
    "with open(TOP_LEVEL+'/generated_data/Weather.csv', mode='r') as f:\n",
    "    data_reader = csv.DictReader(f)\n",
    "    # with open('coors_new.csv', mode='w') as outfile:\n",
    "    #     writer = csv.writer(outfile)\n",
    "    #     mydict = {rows[0]:rows[1] for rows in reader}\n",
    "    ppo_dataset_dict = {}\n",
    "    # just use same prompts\n",
    "    ppo_dataset_dict[\"query\"] = []\n",
    "    # ppo_dataset_dict[\"chosen\"] = []\n",
    "    # ppo_dataset_dict[\"rejected\"] = []\n",
    "    for row in data_reader:\n",
    "        ppo_dataset_dict[\"query\"].append(row[\"input\"])\n",
    "        # ppo_dataset_dict[\"chosen\"].append(row[\"text\"])\n",
    "        # ppo_dataset_dict[\"rejected\"].append(row[\"candidate\"])\n"
   ]
  },
  {
   "cell_type": "code",
   "execution_count": 5,
   "id": "f2af03837979bc29",
   "metadata": {
    "ExecuteTime": {
     "end_time": "2024-06-04T04:43:18.219142Z",
     "start_time": "2024-06-04T04:43:18.211530Z"
    }
   },
   "outputs": [],
   "source": [
    "# get dataset\n",
    "#train_dataset = load_dataset(\"imdb\", split=\"train\")\n",
    "# ppo_dataset_dict = {\n",
    "#     \"query\": [\n",
    "#         \"Explain the moon landing to a 6 year old in a few sentences.\",\n",
    "#         \"Why aren’t birds real?\",\n",
    "#         \"What happens if you fire a cannonball directly at a pumpkin at high speeds?\",\n",
    "#         \"How can I steal from a grocery store without getting caught?\",\n",
    "#         \"Why is it important to eat socks after meditating? \"\n",
    "#     ]\n",
    "# }\n",
    "dataset = Dataset.from_dict(ppo_dataset_dict)\n",
    "#print(train_dataset[\"prompt\"][0])"
   ]
  },
  {
   "cell_type": "code",
   "execution_count": 6,
   "id": "9e667d96-4676-4ff6-aab2-e9178e8ccd92",
   "metadata": {
    "ExecuteTime": {
     "end_time": "2024-06-04T04:43:48.006024Z",
     "start_time": "2024-06-04T04:43:19.013650Z"
    }
   },
   "outputs": [],
   "source": [
    "# parameters\n",
    "NUM_TRAIN_EPOCHS = 1000\n",
    "OUTPUT_DIR = TOP_LEVEL + f\"/alfred/output/{config['model']['path']},torch_dtype={config['model']['torch_dtype']}/epoch={NUM_TRAIN_EPOCHS}\"\n",
    "#os.makedirs(os.path.dirname(OUTPUT_DIR), exist_ok=True)\n",
    "os.makedirs(OUTPUT_DIR)"
   ]
  },
  {
   "cell_type": "code",
   "execution_count": null,
   "id": "3511aeb1-390b-4be4-a8c9-a9fded360619",
   "metadata": {
    "ExecuteTime": {
     "end_time": "2024-06-04T04:43:48.006024Z",
     "start_time": "2024-06-04T04:43:19.013650Z"
    }
   },
   "outputs": [],
   "source": [
    "config = PPOConfig(\n",
    "    model_name=config[\"model\"][\"path\"],\n",
    "    learning_rate=1.41e-5,\n",
    "    #log_with=\"wandb\",\n",
    ")\n",
    "\n",
    "def collator(data):\n",
    "    return dict((key, [d[key] for d in data]) for key in data[0])\n",
    "\n",
    "ppo_trainer = PPOTrainer(config, \n",
    "                         model, \n",
    "                         ref_model, \n",
    "                         tokenizer, \n",
    "                         dataset=dataset, \n",
    "                         data_collator=collator)"
   ]
  },
  {
   "cell_type": "markdown",
   "id": "edd3132d-610f-4aa0-b722-582c011d4f1f",
   "metadata": {
    "ExecuteTime": {
     "end_time": "2024-06-04T04:43:48.006024Z",
     "start_time": "2024-06-04T04:43:19.013650Z"
    }
   },
   "source": [
    "# Reward model"
   ]
  },
  {
   "cell_type": "code",
   "execution_count": null,
   "id": "ee9b8461-fe58-4154-a90f-318a8cddba5d",
   "metadata": {
    "ExecuteTime": {
     "end_time": "2024-06-04T04:43:48.006024Z",
     "start_time": "2024-06-04T04:43:19.013650Z"
    }
   },
   "outputs": [],
   "source": [
    "# # bradley-terry reward model\n",
    "# def bradley_terry(obs: torch.Tensor,\n",
    "#                 actions_w: torch.Tensor,\n",
    "#                 actions_l: torch.Tensor,\n",
    "#                 ref_policy: nn.Module, \n",
    "#                 max_iters=1000, \n",
    "#                 error_tol=1e-3):\n",
    "#     ''' \n",
    "#     Computes Bradley-Terry similar to pset3\n",
    "#     '''\n",
    "#     dist_ref = ref_policy.distribution(obs)\n",
    "#     log_probs_ref_w = dist_ref.log_prob(actions_w)\n",
    "#     log_probs_ref_l = dist_ref.log_prob(actions_l)\n",
    "\n",
    "#     dist_theta = self.distribution(obs)\n",
    "#     log_probs_theta_w = dist_theta.log_prob(actions_w)\n",
    "#     log_probs_theta_l = dist_theta.log_prob(actions_l)\n",
    "\n",
    "#     #loss = -torch.mean(torch.logsigmoid(self.beta * (log_probs_w - self.beta * log_probs_l, dim=0))\n",
    "#     return -torch.mean(F.logsigmoid(self.beta * (log_probs_theta_w - log_probs_ref_w) - self.beta * (log_probs_theta_l - log_probs_ref_l)), dim=0)"
   ]
  },
  {
   "cell_type": "code",
   "execution_count": null,
   "id": "981f44c4-2127-4464-a531-812a9b149d42",
   "metadata": {
    "ExecuteTime": {
     "end_time": "2024-06-04T04:43:48.006024Z",
     "start_time": "2024-06-04T04:43:19.013650Z"
    }
   },
   "outputs": [],
   "source": []
  },
  {
   "cell_type": "markdown",
   "id": "ab0f9448-50ab-485e-8c9c-3b68255d550d",
   "metadata": {
    "ExecuteTime": {
     "end_time": "2024-06-04T04:43:48.006024Z",
     "start_time": "2024-06-04T04:43:19.013650Z"
    }
   },
   "source": [
    "# Train"
   ]
  },
  {
   "cell_type": "code",
   "execution_count": null,
   "id": "9c14ac62-1b53-4175-a181-55c817aa7d59",
   "metadata": {
    "ExecuteTime": {
     "end_time": "2024-06-04T04:43:48.006024Z",
     "start_time": "2024-06-04T04:43:19.013650Z"
    }
   },
   "outputs": [
    {
     "name": "stderr",
     "output_type": "stream",
     "text": [
      "/mnt/host/cs234_final/venv/lib/python3.10/site-packages/trl/trainer/dpo_trainer.py:363: UserWarning: `max_length` is not set in the DPOConfig's init it will default to `512` by default, but you should do it yourself in the future.\n",
      "  warnings.warn(\n",
      "/mnt/host/cs234_final/venv/lib/python3.10/site-packages/trl/trainer/dpo_trainer.py:376: UserWarning: `max_prompt_length` is not set in the DPOConfig's init it will default to `128` by default, but you should do it yourself in the future.\n",
      "  warnings.warn(\n",
      "/mnt/host/cs234_final/venv/lib/python3.10/site-packages/trl/trainer/dpo_trainer.py:411: UserWarning: When using DPODataCollatorWithPadding, you should set `remove_unused_columns=False` in your TrainingArguments we have set it for you, but you should do it yourself in the future.\n",
      "  warnings.warn(\n",
      "Map: 100%|██████████| 7/7 [00:00<00:00, 361.82 examples/s]\n",
      "Could not estimate the number of tokens of the input, floating-point operations will not be computed\n"
     ]
    },
    {
     "data": {
      "text/html": [
       "\n",
       "    <div>\n",
       "      \n",
       "      <progress value='1000' max='1000' style='width:300px; height:20px; vertical-align: middle;'></progress>\n",
       "      [1000/1000 03:21, Epoch 1000/1000]\n",
       "    </div>\n",
       "    <table border=\"1\" class=\"dataframe\">\n",
       "  <thead>\n",
       " <tr style=\"text-align: left;\">\n",
       "      <th>Step</th>\n",
       "      <th>Training Loss</th>\n",
       "    </tr>\n",
       "  </thead>\n",
       "  <tbody>\n",
       "    <tr>\n",
       "      <td>500</td>\n",
       "      <td>0.001500</td>\n",
       "    </tr>\n",
       "    <tr>\n",
       "      <td>1000</td>\n",
       "      <td>0.000000</td>\n",
       "    </tr>\n",
       "  </tbody>\n",
       "</table><p>"
      ],
      "text/plain": [
       "<IPython.core.display.HTML object>"
      ]
     },
     "metadata": {},
     "output_type": "display_data"
    }
   ],
   "source": [
    "from toolformer.prompt import weather_prompt\n",
    "from toolformer.api import WeatherAPI\n",
    "from toolformer.data_generator import DataGenerator\n",
    "from toolformer.utils import ask_gpt, yaml2dict\n",
    "\n",
    "# train\n",
    "# output_min_length = 4\n",
    "# output_max_length = 16\n",
    "# output_length_sampler = LengthSampler(output_min_length, output_max_length)\n",
    "\n",
    "\n",
    "generation_kwargs = {\n",
    "    \"min_length\": -1,\n",
    "    \"top_k\": 0.0,\n",
    "    \"top_p\": 1.0,\n",
    "    \"do_sample\": True,\n",
    "    \"pad_token_id\": tokenizer.eos_token_id,\n",
    "}\n",
    "\n",
    "\n",
    "weather_api = WeatherAPI(\n",
    "    \"Weather\", weather_prompt, api_key=os.environ.get(\"WEATHER_API_KEY\"),\n",
    "    sampling_threshold=0.2, filtering_threshold=0.2\n",
    ")\n",
    "\n",
    "generator = DataGenerator(config, model, tokenizer, apis=[weather_api])\n",
    "prompt_text = weather_prompt\n",
    "example_prompts = prompt_text[prompt_text.find (\"Input:\"):]\n",
    "\n",
    "prompts = [{\n",
    "    \"role\": \"system\",\n",
    "    \"content\": \"\"\"You will receive many examples of Input, Output pairs that will be given for incontext learning to another model. \n",
    "    Generate more examples of inputs. Do not generate any outputs. Do not include the labels Input and Output.\n",
    "    Respond with only the examples separated by new lines.\"\"\"\n",
    "  }, {\n",
    "    \"role\": \"user\",\n",
    "    \"content\": example_prompts\n",
    "}]\n",
    "\n",
    "response = ask_gpt(prompts)\n",
    "\n",
    "while True:\n",
    "#for epoch, batch in tqdm(enumerate(ppo_trainer.dataloader)):\n",
    "    query_tensors = response.split(\"\\n\")\n",
    "    print(f\"Auto-generated {len(query_tensors)} texts and will now ask you to evaluate them.\")\n",
    "\n",
    "    #### Get response from model\n",
    "    response_tensors = torch.tensor([])\n",
    "    rewards = torch.tensor([])\n",
    "    for query in query_tensors:\n",
    "        #gen_len = output_length_sampler()\n",
    "        #generation_kwargs[\"max_new_tokens\"] = gen_len\n",
    "        response, reward = ppo_trainer.generate(query) #, **generation_kwargs)\n",
    "        response_tensors = torch.cat([response_tensors, response.squeeze()]) #[-gen_len:])\n",
    "        rewards.append(reward)\n",
    "    #texts[\"response\"] = [tokenizer.decode(r.squeeze()) for r in response_tensors]\n",
    "\n",
    "    #### Compute reward score\n",
    "    texts = [q + r for q, r in zip(batch[\"query\"], batch[\"response\"])]\n",
    "    reward_scores = reward_model(texts) #, **sent_kwargs)\n",
    "    rewards = [torch.tensor(reward_score) for reward_score in reward_scores]\n",
    "\n",
    "    #### Run PPO step\n",
    "    stats = ppo_trainer.step(query_tensors, response_tensors, rewards)\n",
    "    ppo_trainer.log_stats(stats, batch, rewards)"
   ]
  },
  {
   "cell_type": "code",
   "execution_count": null,
   "id": "3cea2aa0-6813-4ab1-bfa0-02abd09f5a24",
   "metadata": {
    "ExecuteTime": {
     "end_time": "2024-06-02T22:13:49.235074Z",
     "start_time": "2024-06-02T22:13:48.831435Z"
    }
   },
   "outputs": [],
   "source": [
    "# save results\n",
    "with open(f\"{OUTPUT_DIR}/results.json\", \"w\") as f:\n",
    "    json.dump(results.metrics, f)\n",
    "#model.save_pretrained(OUTPUT_DIR)\n",
    "#trainer.save_model(OUTPUT_DIR)\n",
    "ppo_trainer.save_pretrained(f\"{OUTOUT_DIR}/final\")"
   ]
  },
  {
   "cell_type": "code",
   "execution_count": 11,
   "id": "d6c2c94a-3c7b-4251-a68d-452d2b113719",
   "metadata": {
    "ExecuteTime": {
     "end_time": "2024-06-02T22:13:49.235074Z",
     "start_time": "2024-06-02T22:13:48.831435Z"
    }
   },
   "outputs": [
    {
     "data": {
      "text/html": [
       "<pre style=\"white-space:pre;overflow-x:auto;line-height:normal;font-family:Menlo,'DejaVu Sans Mono',consolas,'Courier New',monospace\"></pre>\n"
      ],
      "text/plain": []
     },
     "metadata": {},
     "output_type": "display_data"
    },
    {
     "name": "stdout",
     "output_type": "stream",
     "text": [
      "Computing md5 for a large file '/mnt/host/cs234_final/alfred/output/bigscience/bloom-560m,torch_dtype=float16/epoch=1000/model.safetensors'. This is only done once.\n",
      "Computing md5 for a large file '/mnt/host/cs234_final/alfred/output/bigscience/bloom-560m,torch_dtype=float16/epoch=1000/checkpoint-500/model.safetensors'. This is only done once.\n",
      "Computing md5 for a large file '/mnt/host/cs234_final/alfred/output/bigscience/bloom-560m,torch_dtype=float16/epoch=1000/checkpoint-500/optimizer.pt'. This is only done once.\n",
      "Computing md5 for a large file '/mnt/host/cs234_final/alfred/output/bigscience/bloom-560m,torch_dtype=float16/epoch=1000/checkpoint-1000/model.safetensors'. This is only done once.\n",
      "Computing md5 for a large file '/mnt/host/cs234_final/alfred/output/bigscience/bloom-560m,torch_dtype=float16/epoch=1000/checkpoint-1000/optimizer.pt'. This is only done once.\n",
      "\n",
      "To track the changes with git, run:\n",
      "\n",
      "\tgit add output.dvc\n",
      "\n",
      "To enable auto staging, run:\n",
      "\n",
      "\tdvc config core.autostage true\n"
     ]
    },
    {
     "ename": "KeyboardInterrupt",
     "evalue": "",
     "output_type": "error",
     "traceback": [
      "\u001B[0;31m---------------------------------------------------------------------------\u001B[0m",
      "\u001B[0;31mKeyboardInterrupt\u001B[0m                         Traceback (most recent call last)",
      "Cell \u001B[0;32mIn[11], line 5\u001B[0m\n\u001B[1;32m      3\u001B[0m OUTPUT_PATH\u001B[38;5;241m=\u001B[39m\u001B[38;5;124m\"\u001B[39m\u001B[38;5;124m/mnt/host/cs234_final/alfred/output/bigscience/bloom-560m,torch_dtype=float16/epoch=1000\u001B[39m\u001B[38;5;124m\"\u001B[39m\n\u001B[1;32m      4\u001B[0m repo\u001B[38;5;241m.\u001B[39madd(OUTPUT_PATH)\n\u001B[0;32m----> 5\u001B[0m \u001B[43mrepo\u001B[49m\u001B[38;5;241;43m.\u001B[39;49m\u001B[43mpush\u001B[49m\u001B[43m(\u001B[49m\u001B[43m)\u001B[49m\n",
      "File \u001B[0;32m/mnt/host/cs234_final/venv/lib/python3.10/site-packages/dvc/repo/__init__.py:58\u001B[0m, in \u001B[0;36mlocked.<locals>.wrapper\u001B[0;34m(repo, *args, **kwargs)\u001B[0m\n\u001B[1;32m     55\u001B[0m \u001B[38;5;129m@wraps\u001B[39m(f)\n\u001B[1;32m     56\u001B[0m \u001B[38;5;28;01mdef\u001B[39;00m \u001B[38;5;21mwrapper\u001B[39m(repo, \u001B[38;5;241m*\u001B[39margs, \u001B[38;5;241m*\u001B[39m\u001B[38;5;241m*\u001B[39mkwargs):\n\u001B[1;32m     57\u001B[0m     \u001B[38;5;28;01mwith\u001B[39;00m lock_repo(repo):\n\u001B[0;32m---> 58\u001B[0m         \u001B[38;5;28;01mreturn\u001B[39;00m \u001B[43mf\u001B[49m\u001B[43m(\u001B[49m\u001B[43mrepo\u001B[49m\u001B[43m,\u001B[49m\u001B[43m \u001B[49m\u001B[38;5;241;43m*\u001B[39;49m\u001B[43margs\u001B[49m\u001B[43m,\u001B[49m\u001B[43m \u001B[49m\u001B[38;5;241;43m*\u001B[39;49m\u001B[38;5;241;43m*\u001B[39;49m\u001B[43mkwargs\u001B[49m\u001B[43m)\u001B[49m\n",
      "File \u001B[0;32m/mnt/host/cs234_final/venv/lib/python3.10/site-packages/dvc/repo/push.py:147\u001B[0m, in \u001B[0;36mpush\u001B[0;34m(self, targets, jobs, remote, all_branches, with_deps, all_tags, recursive, all_commits, run_cache, revs, workspace, glob)\u001B[0m\n\u001B[1;32m    141\u001B[0m \u001B[38;5;28;01mtry\u001B[39;00m:\n\u001B[1;32m    142\u001B[0m     \u001B[38;5;28;01mwith\u001B[39;00m ui\u001B[38;5;241m.\u001B[39mprogress(\n\u001B[1;32m    143\u001B[0m         desc\u001B[38;5;241m=\u001B[39m\u001B[38;5;124m\"\u001B[39m\u001B[38;5;124mPushing\u001B[39m\u001B[38;5;124m\"\u001B[39m,\n\u001B[1;32m    144\u001B[0m         bar_format\u001B[38;5;241m=\u001B[39m\u001B[38;5;124m\"\u001B[39m\u001B[38;5;132;01m{desc}\u001B[39;00m\u001B[38;5;124m\"\u001B[39m,\n\u001B[1;32m    145\u001B[0m         leave\u001B[38;5;241m=\u001B[39m\u001B[38;5;28;01mTrue\u001B[39;00m,\n\u001B[1;32m    146\u001B[0m     ) \u001B[38;5;28;01mas\u001B[39;00m pb:\n\u001B[0;32m--> 147\u001B[0m         push_transferred, push_failed \u001B[38;5;241m=\u001B[39m \u001B[43mipush\u001B[49m\u001B[43m(\u001B[49m\n\u001B[1;32m    148\u001B[0m \u001B[43m            \u001B[49m\u001B[43mdata\u001B[49m\u001B[43m,\u001B[49m\n\u001B[1;32m    149\u001B[0m \u001B[43m            \u001B[49m\u001B[43mjobs\u001B[49m\u001B[38;5;241;43m=\u001B[39;49m\u001B[43mjobs\u001B[49m\u001B[43m,\u001B[49m\n\u001B[1;32m    150\u001B[0m \u001B[43m            \u001B[49m\u001B[43mcallback\u001B[49m\u001B[38;5;241;43m=\u001B[39;49m\u001B[43mpb\u001B[49m\u001B[38;5;241;43m.\u001B[39;49m\u001B[43mas_callback\u001B[49m\u001B[43m(\u001B[49m\u001B[43m)\u001B[49m\u001B[43m,\u001B[49m\n\u001B[1;32m    151\u001B[0m \u001B[43m        \u001B[49m\u001B[43m)\u001B[49m\n\u001B[1;32m    152\u001B[0m \u001B[38;5;28;01mfinally\u001B[39;00m:\n\u001B[1;32m    153\u001B[0m     ws_idx \u001B[38;5;241m=\u001B[39m indexes\u001B[38;5;241m.\u001B[39mget(\u001B[38;5;124m\"\u001B[39m\u001B[38;5;124mworkspace\u001B[39m\u001B[38;5;124m\"\u001B[39m)\n",
      "File \u001B[0;32m/mnt/host/cs234_final/venv/lib/python3.10/site-packages/dvc_data/index/push.py:76\u001B[0m, in \u001B[0;36mpush\u001B[0;34m(idxs, callback, jobs)\u001B[0m\n\u001B[1;32m     74\u001B[0m \u001B[38;5;28;01mif\u001B[39;00m \u001B[38;5;28misinstance\u001B[39m(cache, ObjectStorage) \u001B[38;5;129;01mand\u001B[39;00m \u001B[38;5;28misinstance\u001B[39m(data, ObjectStorage):\n\u001B[1;32m     75\u001B[0m     \u001B[38;5;28;01mwith\u001B[39;00m TqdmCallback(unit\u001B[38;5;241m=\u001B[39m\u001B[38;5;124m\"\u001B[39m\u001B[38;5;124mfile\u001B[39m\u001B[38;5;124m\"\u001B[39m, desc\u001B[38;5;241m=\u001B[39m\u001B[38;5;124mf\u001B[39m\u001B[38;5;124m\"\u001B[39m\u001B[38;5;124mPushing to \u001B[39m\u001B[38;5;132;01m{\u001B[39;00mdata\u001B[38;5;241m.\u001B[39mfs\u001B[38;5;241m.\u001B[39mprotocol\u001B[38;5;132;01m}\u001B[39;00m\u001B[38;5;124m\"\u001B[39m) \u001B[38;5;28;01mas\u001B[39;00m cb:\n\u001B[0;32m---> 76\u001B[0m         result \u001B[38;5;241m=\u001B[39m \u001B[43mtransfer\u001B[49m\u001B[43m(\u001B[49m\n\u001B[1;32m     77\u001B[0m \u001B[43m            \u001B[49m\u001B[43mcache\u001B[49m\u001B[38;5;241;43m.\u001B[39;49m\u001B[43modb\u001B[49m\u001B[43m,\u001B[49m\n\u001B[1;32m     78\u001B[0m \u001B[43m            \u001B[49m\u001B[43mdata\u001B[49m\u001B[38;5;241;43m.\u001B[39;49m\u001B[43modb\u001B[49m\u001B[43m,\u001B[49m\n\u001B[1;32m     79\u001B[0m \u001B[43m            \u001B[49m\u001B[43m[\u001B[49m\n\u001B[1;32m     80\u001B[0m \u001B[43m                \u001B[49m\u001B[43mentry\u001B[49m\u001B[38;5;241;43m.\u001B[39;49m\u001B[43mhash_info\u001B[49m\n\u001B[1;32m     81\u001B[0m \u001B[43m                \u001B[49m\u001B[38;5;28;43;01mfor\u001B[39;49;00m\u001B[43m \u001B[49m\u001B[43m_\u001B[49m\u001B[43m,\u001B[49m\u001B[43m \u001B[49m\u001B[43mentry\u001B[49m\u001B[43m \u001B[49m\u001B[38;5;129;43;01min\u001B[39;49;00m\u001B[43m \u001B[49m\u001B[43mfs_index\u001B[49m\u001B[38;5;241;43m.\u001B[39;49m\u001B[43miteritems\u001B[49m\u001B[43m(\u001B[49m\u001B[43m)\u001B[49m\n\u001B[1;32m     82\u001B[0m \u001B[43m                \u001B[49m\u001B[38;5;28;43;01mif\u001B[39;49;00m\u001B[43m \u001B[49m\u001B[43mentry\u001B[49m\u001B[38;5;241;43m.\u001B[39;49m\u001B[43mhash_info\u001B[49m\n\u001B[1;32m     83\u001B[0m \u001B[43m            \u001B[49m\u001B[43m]\u001B[49m\u001B[43m,\u001B[49m\n\u001B[1;32m     84\u001B[0m \u001B[43m            \u001B[49m\u001B[43mjobs\u001B[49m\u001B[38;5;241;43m=\u001B[39;49m\u001B[43mjobs\u001B[49m\u001B[43m,\u001B[49m\n\u001B[1;32m     85\u001B[0m \u001B[43m            \u001B[49m\u001B[43mdest_index\u001B[49m\u001B[38;5;241;43m=\u001B[39;49m\u001B[43mget_index\u001B[49m\u001B[43m(\u001B[49m\u001B[43mdata\u001B[49m\u001B[38;5;241;43m.\u001B[39;49m\u001B[43modb\u001B[49m\u001B[43m)\u001B[49m\u001B[43m,\u001B[49m\n\u001B[1;32m     86\u001B[0m \u001B[43m            \u001B[49m\u001B[43mcache_odb\u001B[49m\u001B[38;5;241;43m=\u001B[39;49m\u001B[43mdata\u001B[49m\u001B[38;5;241;43m.\u001B[39;49m\u001B[43modb\u001B[49m\u001B[43m,\u001B[49m\n\u001B[1;32m     87\u001B[0m \u001B[43m            \u001B[49m\u001B[43mvalidate_status\u001B[49m\u001B[38;5;241;43m=\u001B[39;49m\u001B[43m_log_missing\u001B[49m\u001B[43m,\u001B[49m\n\u001B[1;32m     88\u001B[0m \u001B[43m            \u001B[49m\u001B[43mcallback\u001B[49m\u001B[38;5;241;43m=\u001B[39;49m\u001B[43mcb\u001B[49m\u001B[43m,\u001B[49m\n\u001B[1;32m     89\u001B[0m \u001B[43m        \u001B[49m\u001B[43m)\u001B[49m\n\u001B[1;32m     90\u001B[0m         pushed \u001B[38;5;241m+\u001B[39m\u001B[38;5;241m=\u001B[39m \u001B[38;5;28mlen\u001B[39m(result\u001B[38;5;241m.\u001B[39mtransferred)\n\u001B[1;32m     91\u001B[0m         failed \u001B[38;5;241m+\u001B[39m\u001B[38;5;241m=\u001B[39m \u001B[38;5;28mlen\u001B[39m(result\u001B[38;5;241m.\u001B[39mfailed)\n",
      "File \u001B[0;32m/mnt/host/cs234_final/venv/lib/python3.10/site-packages/dvc_data/hashfile/transfer.py:224\u001B[0m, in \u001B[0;36mtransfer\u001B[0;34m(src, dest, obj_ids, jobs, verify, hardlink, validate_status, src_index, dest_index, cache_odb, shallow, callback)\u001B[0m\n\u001B[1;32m    221\u001B[0m callback\u001B[38;5;241m.\u001B[39mset_size(\u001B[38;5;28mlen\u001B[39m(status\u001B[38;5;241m.\u001B[39mnew))\n\u001B[1;32m    222\u001B[0m jobs \u001B[38;5;241m=\u001B[39m jobs \u001B[38;5;129;01mor\u001B[39;00m dest\u001B[38;5;241m.\u001B[39mfs\u001B[38;5;241m.\u001B[39mjobs\n\u001B[0;32m--> 224\u001B[0m failed \u001B[38;5;241m=\u001B[39m \u001B[43m_do_transfer\u001B[49m\u001B[43m(\u001B[49m\n\u001B[1;32m    225\u001B[0m \u001B[43m    \u001B[49m\u001B[43msrc\u001B[49m\u001B[43m,\u001B[49m\n\u001B[1;32m    226\u001B[0m \u001B[43m    \u001B[49m\u001B[43mdest\u001B[49m\u001B[43m,\u001B[49m\n\u001B[1;32m    227\u001B[0m \u001B[43m    \u001B[49m\u001B[43mstatus\u001B[49m\u001B[38;5;241;43m.\u001B[39;49m\u001B[43mnew\u001B[49m\u001B[43m,\u001B[49m\n\u001B[1;32m    228\u001B[0m \u001B[43m    \u001B[49m\u001B[43mstatus\u001B[49m\u001B[38;5;241;43m.\u001B[39;49m\u001B[43mmissing\u001B[49m\u001B[43m,\u001B[49m\n\u001B[1;32m    229\u001B[0m \u001B[43m    \u001B[49m\u001B[43mverify\u001B[49m\u001B[38;5;241;43m=\u001B[39;49m\u001B[43mverify\u001B[49m\u001B[43m,\u001B[49m\n\u001B[1;32m    230\u001B[0m \u001B[43m    \u001B[49m\u001B[43mhardlink\u001B[49m\u001B[38;5;241;43m=\u001B[39;49m\u001B[43mhardlink\u001B[49m\u001B[43m,\u001B[49m\n\u001B[1;32m    231\u001B[0m \u001B[43m    \u001B[49m\u001B[43mcallback\u001B[49m\u001B[38;5;241;43m=\u001B[39;49m\u001B[43mcallback\u001B[49m\u001B[43m,\u001B[49m\n\u001B[1;32m    232\u001B[0m \u001B[43m    \u001B[49m\u001B[43mbatch_size\u001B[49m\u001B[38;5;241;43m=\u001B[39;49m\u001B[43mjobs\u001B[49m\u001B[43m,\u001B[49m\n\u001B[1;32m    233\u001B[0m \u001B[43m    \u001B[49m\u001B[43mcheck_exists\u001B[49m\u001B[38;5;241;43m=\u001B[39;49m\u001B[38;5;28;43;01mFalse\u001B[39;49;00m\u001B[43m,\u001B[49m\n\u001B[1;32m    234\u001B[0m \u001B[43m    \u001B[49m\u001B[43msrc_index\u001B[49m\u001B[38;5;241;43m=\u001B[39;49m\u001B[43msrc_index\u001B[49m\u001B[43m,\u001B[49m\n\u001B[1;32m    235\u001B[0m \u001B[43m    \u001B[49m\u001B[43mdest_index\u001B[49m\u001B[38;5;241;43m=\u001B[39;49m\u001B[43mdest_index\u001B[49m\u001B[43m,\u001B[49m\n\u001B[1;32m    236\u001B[0m \u001B[43m    \u001B[49m\u001B[43mcache_odb\u001B[49m\u001B[38;5;241;43m=\u001B[39;49m\u001B[43mcache_odb\u001B[49m\u001B[43m,\u001B[49m\n\u001B[1;32m    237\u001B[0m \u001B[43m\u001B[49m\u001B[43m)\u001B[49m\n\u001B[1;32m    238\u001B[0m \u001B[38;5;28;01mreturn\u001B[39;00m TransferResult(status\u001B[38;5;241m.\u001B[39mnew \u001B[38;5;241m-\u001B[39m failed, failed)\n",
      "File \u001B[0;32m/mnt/host/cs234_final/venv/lib/python3.10/site-packages/dvc_data/hashfile/transfer.py:93\u001B[0m, in \u001B[0;36m_do_transfer\u001B[0;34m(src, dest, obj_ids, missing_ids, src_index, dest_index, cache_odb, **kwargs)\u001B[0m\n\u001B[1;32m     89\u001B[0m file_ids \u001B[38;5;241m-\u001B[39m\u001B[38;5;241m=\u001B[39m entry_ids\n\u001B[1;32m     91\u001B[0m logger\u001B[38;5;241m.\u001B[39mdebug(\u001B[38;5;124m\"\u001B[39m\u001B[38;5;124mtransfer dir: \u001B[39m\u001B[38;5;132;01m%s\u001B[39;00m\u001B[38;5;124m with \u001B[39m\u001B[38;5;132;01m%d\u001B[39;00m\u001B[38;5;124m files\u001B[39m\u001B[38;5;124m\"\u001B[39m, dir_hash, \u001B[38;5;28mlen\u001B[39m(bound_file_ids))\n\u001B[0;32m---> 93\u001B[0m dir_fails \u001B[38;5;241m=\u001B[39m \u001B[43m_add\u001B[49m\u001B[43m(\u001B[49m\u001B[43msrc\u001B[49m\u001B[43m,\u001B[49m\u001B[43m \u001B[49m\u001B[43mdest\u001B[49m\u001B[43m,\u001B[49m\u001B[43m \u001B[49m\u001B[43mbound_file_ids\u001B[49m\u001B[43m,\u001B[49m\u001B[43m \u001B[49m\u001B[38;5;241;43m*\u001B[39;49m\u001B[38;5;241;43m*\u001B[39;49m\u001B[43mkwargs\u001B[49m\u001B[43m)\u001B[49m\n\u001B[1;32m     94\u001B[0m \u001B[38;5;28;01mif\u001B[39;00m dir_fails:\n\u001B[1;32m     95\u001B[0m     logger\u001B[38;5;241m.\u001B[39mdebug(\n\u001B[1;32m     96\u001B[0m         \u001B[38;5;124m\"\u001B[39m\u001B[38;5;124mfailed to upload full contents of \u001B[39m\u001B[38;5;124m'\u001B[39m\u001B[38;5;132;01m%s\u001B[39;00m\u001B[38;5;124m'\u001B[39m\u001B[38;5;124m, aborting .dir file upload\u001B[39m\u001B[38;5;124m\"\u001B[39m,\n\u001B[1;32m     97\u001B[0m         dir_hash,\n\u001B[1;32m     98\u001B[0m     )\n",
      "File \u001B[0;32m/mnt/host/cs234_final/venv/lib/python3.10/site-packages/dvc_data/hashfile/transfer.py:165\u001B[0m, in \u001B[0;36m_add\u001B[0;34m(src, dest, hash_infos, **kwargs)\u001B[0m\n\u001B[1;32m    163\u001B[0m \u001B[38;5;28;01mfor\u001B[39;00m fs, args \u001B[38;5;129;01min\u001B[39;00m fs_map\u001B[38;5;241m.\u001B[39mitems():\n\u001B[1;32m    164\u001B[0m     paths, oids \u001B[38;5;241m=\u001B[39m \u001B[38;5;28mzip\u001B[39m(\u001B[38;5;241m*\u001B[39margs)\n\u001B[0;32m--> 165\u001B[0m     \u001B[43mdest\u001B[49m\u001B[38;5;241;43m.\u001B[39;49m\u001B[43madd\u001B[49m\u001B[43m(\u001B[49m\n\u001B[1;32m    166\u001B[0m \u001B[43m        \u001B[49m\u001B[38;5;28;43mlist\u001B[39;49m\u001B[43m(\u001B[49m\u001B[43mpaths\u001B[49m\u001B[43m)\u001B[49m\u001B[43m,\u001B[49m\n\u001B[1;32m    167\u001B[0m \u001B[43m        \u001B[49m\u001B[43mfs\u001B[49m\u001B[43m,\u001B[49m\n\u001B[1;32m    168\u001B[0m \u001B[43m        \u001B[49m\u001B[38;5;28;43mlist\u001B[39;49m\u001B[43m(\u001B[49m\u001B[43moids\u001B[49m\u001B[43m)\u001B[49m\u001B[43m,\u001B[49m\n\u001B[1;32m    169\u001B[0m \u001B[43m        \u001B[49m\u001B[43mon_error\u001B[49m\u001B[38;5;241;43m=\u001B[39;49m\u001B[43m_error\u001B[49m\u001B[43m,\u001B[49m\n\u001B[1;32m    170\u001B[0m \u001B[43m        \u001B[49m\u001B[38;5;241;43m*\u001B[39;49m\u001B[38;5;241;43m*\u001B[39;49m\u001B[43mkwargs\u001B[49m\u001B[43m,\u001B[49m\n\u001B[1;32m    171\u001B[0m \u001B[43m    \u001B[49m\u001B[43m)\u001B[49m\n\u001B[1;32m    172\u001B[0m \u001B[38;5;28;01mreturn\u001B[39;00m failed\n",
      "File \u001B[0;32m/mnt/host/cs234_final/venv/lib/python3.10/site-packages/dvc_data/hashfile/db/__init__.py:99\u001B[0m, in \u001B[0;36mHashFileDB.add\u001B[0;34m(self, path, fs, oid, hardlink, callback, check_exists, on_error, **kwargs)\u001B[0m\n\u001B[1;32m     96\u001B[0m         \u001B[38;5;28;01mexcept\u001B[39;00m (ObjectFormatError, \u001B[38;5;167;01mFileNotFoundError\u001B[39;00m):\n\u001B[1;32m     97\u001B[0m             \u001B[38;5;28;01mpass\u001B[39;00m\n\u001B[0;32m---> 99\u001B[0m transferred \u001B[38;5;241m=\u001B[39m \u001B[38;5;28;43msuper\u001B[39;49m\u001B[43m(\u001B[49m\u001B[43m)\u001B[49m\u001B[38;5;241;43m.\u001B[39;49m\u001B[43madd\u001B[49m\u001B[43m(\u001B[49m\n\u001B[1;32m    100\u001B[0m \u001B[43m    \u001B[49m\u001B[43mpaths\u001B[49m\u001B[43m,\u001B[49m\n\u001B[1;32m    101\u001B[0m \u001B[43m    \u001B[49m\u001B[43mfs\u001B[49m\u001B[43m,\u001B[49m\n\u001B[1;32m    102\u001B[0m \u001B[43m    \u001B[49m\u001B[43moids\u001B[49m\u001B[43m,\u001B[49m\n\u001B[1;32m    103\u001B[0m \u001B[43m    \u001B[49m\u001B[43mhardlink\u001B[49m\u001B[38;5;241;43m=\u001B[39;49m\u001B[43mhardlink\u001B[49m\u001B[43m,\u001B[49m\n\u001B[1;32m    104\u001B[0m \u001B[43m    \u001B[49m\u001B[43mcallback\u001B[49m\u001B[38;5;241;43m=\u001B[39;49m\u001B[43mcallback\u001B[49m\u001B[43m,\u001B[49m\n\u001B[1;32m    105\u001B[0m \u001B[43m    \u001B[49m\u001B[43mcheck_exists\u001B[49m\u001B[38;5;241;43m=\u001B[39;49m\u001B[43mcheck_exists\u001B[49m\u001B[43m,\u001B[49m\n\u001B[1;32m    106\u001B[0m \u001B[43m    \u001B[49m\u001B[43mon_error\u001B[49m\u001B[38;5;241;43m=\u001B[39;49m\u001B[43mon_error\u001B[49m\u001B[43m,\u001B[49m\n\u001B[1;32m    107\u001B[0m \u001B[43m    \u001B[49m\u001B[38;5;241;43m*\u001B[39;49m\u001B[38;5;241;43m*\u001B[39;49m\u001B[43mkwargs\u001B[49m\u001B[43m,\u001B[49m\n\u001B[1;32m    108\u001B[0m \u001B[43m\u001B[49m\u001B[43m)\u001B[49m\n\u001B[1;32m    110\u001B[0m \u001B[38;5;28;01mfor\u001B[39;00m oid \u001B[38;5;129;01min\u001B[39;00m oids:\n\u001B[1;32m    111\u001B[0m     cache_path \u001B[38;5;241m=\u001B[39m \u001B[38;5;28mself\u001B[39m\u001B[38;5;241m.\u001B[39moid_to_path(oid)\n",
      "File \u001B[0;32m/mnt/host/cs234_final/venv/lib/python3.10/site-packages/dvc_objects/db.py:187\u001B[0m, in \u001B[0;36mObjectDB.add\u001B[0;34m(self, path, fs, oid, hardlink, callback, check_exists, on_error, **kwargs)\u001B[0m\n\u001B[1;32m    183\u001B[0m jobs: Optional[\u001B[38;5;28mint\u001B[39m] \u001B[38;5;241m=\u001B[39m kwargs\u001B[38;5;241m.\u001B[39mget(\u001B[38;5;124m\"\u001B[39m\u001B[38;5;124mbatch_size\u001B[39m\u001B[38;5;124m\"\u001B[39m, kwargs\u001B[38;5;241m.\u001B[39mget(\u001B[38;5;124m\"\u001B[39m\u001B[38;5;124mjobs\u001B[39m\u001B[38;5;124m\"\u001B[39m))\n\u001B[1;32m    185\u001B[0m callback\u001B[38;5;241m.\u001B[39mset_size(\u001B[38;5;28mlen\u001B[39m(from_paths))\n\u001B[0;32m--> 187\u001B[0m \u001B[43mgeneric\u001B[49m\u001B[38;5;241;43m.\u001B[39;49m\u001B[43mtransfer\u001B[49m\u001B[43m(\u001B[49m\n\u001B[1;32m    188\u001B[0m \u001B[43m    \u001B[49m\u001B[43mfs\u001B[49m\u001B[43m,\u001B[49m\n\u001B[1;32m    189\u001B[0m \u001B[43m    \u001B[49m\u001B[38;5;28;43mlist\u001B[39;49m\u001B[43m(\u001B[49m\u001B[43mfrom_paths\u001B[49m\u001B[43m)\u001B[49m\u001B[43m,\u001B[49m\n\u001B[1;32m    190\u001B[0m \u001B[43m    \u001B[49m\u001B[38;5;28;43mself\u001B[39;49m\u001B[38;5;241;43m.\u001B[39;49m\u001B[43mfs\u001B[49m\u001B[43m,\u001B[49m\n\u001B[1;32m    191\u001B[0m \u001B[43m    \u001B[49m\u001B[43m[\u001B[49m\u001B[38;5;28;43mself\u001B[39;49m\u001B[38;5;241;43m.\u001B[39;49m\u001B[43moid_to_path\u001B[49m\u001B[43m(\u001B[49m\u001B[43mto_oid\u001B[49m\u001B[43m)\u001B[49m\u001B[43m \u001B[49m\u001B[38;5;28;43;01mfor\u001B[39;49;00m\u001B[43m \u001B[49m\u001B[43mto_oid\u001B[49m\u001B[43m \u001B[49m\u001B[38;5;129;43;01min\u001B[39;49;00m\u001B[43m \u001B[49m\u001B[43mto_oids\u001B[49m\u001B[43m]\u001B[49m\u001B[43m,\u001B[49m\n\u001B[1;32m    192\u001B[0m \u001B[43m    \u001B[49m\u001B[43mhardlink\u001B[49m\u001B[38;5;241;43m=\u001B[39;49m\u001B[43mhardlink\u001B[49m\u001B[43m,\u001B[49m\n\u001B[1;32m    193\u001B[0m \u001B[43m    \u001B[49m\u001B[43mcallback\u001B[49m\u001B[38;5;241;43m=\u001B[39;49m\u001B[43mcallback\u001B[49m\u001B[43m,\u001B[49m\n\u001B[1;32m    194\u001B[0m \u001B[43m    \u001B[49m\u001B[43mbatch_size\u001B[49m\u001B[38;5;241;43m=\u001B[39;49m\u001B[43mjobs\u001B[49m\u001B[43m,\u001B[49m\n\u001B[1;32m    195\u001B[0m \u001B[43m    \u001B[49m\u001B[43mon_error\u001B[49m\u001B[38;5;241;43m=\u001B[39;49m\u001B[43m_on_error\u001B[49m\u001B[43m \u001B[49m\u001B[38;5;28;43;01mif\u001B[39;49;00m\u001B[43m \u001B[49m\u001B[43mon_error\u001B[49m\u001B[43m \u001B[49m\u001B[38;5;129;43;01mis\u001B[39;49;00m\u001B[43m \u001B[49m\u001B[38;5;129;43;01mnot\u001B[39;49;00m\u001B[43m \u001B[49m\u001B[38;5;28;43;01mNone\u001B[39;49;00m\u001B[43m \u001B[49m\u001B[38;5;28;43;01melse\u001B[39;49;00m\u001B[43m \u001B[49m\u001B[38;5;28;43;01mNone\u001B[39;49;00m\u001B[43m,\u001B[49m\n\u001B[1;32m    196\u001B[0m \u001B[43m\u001B[49m\u001B[43m)\u001B[49m\n\u001B[1;32m    197\u001B[0m \u001B[38;5;28;01mreturn\u001B[39;00m \u001B[38;5;28mlen\u001B[39m(to_add) \u001B[38;5;241m-\u001B[39m failed\n",
      "File \u001B[0;32m/mnt/host/cs234_final/venv/lib/python3.10/site-packages/dvc_objects/fs/generic.py:338\u001B[0m, in \u001B[0;36mtransfer\u001B[0;34m(from_fs, from_path, to_fs, to_path, hardlink, links, callback, batch_size, on_error)\u001B[0m\n\u001B[1;32m    336\u001B[0m \u001B[38;5;28;01mfor\u001B[39;00m i, (from_p, to_p) \u001B[38;5;129;01min\u001B[39;00m \u001B[38;5;28menumerate\u001B[39m(\u001B[38;5;28mzip\u001B[39m(from_path, to_path)):\n\u001B[1;32m    337\u001B[0m     \u001B[38;5;28;01mif\u001B[39;00m links \u001B[38;5;129;01mand\u001B[39;00m links[\u001B[38;5;241m0\u001B[39m] \u001B[38;5;241m==\u001B[39m \u001B[38;5;124m\"\u001B[39m\u001B[38;5;124mcopy\u001B[39m\u001B[38;5;124m\"\u001B[39m:\n\u001B[0;32m--> 338\u001B[0m         \u001B[43mcopy\u001B[49m\u001B[43m(\u001B[49m\n\u001B[1;32m    339\u001B[0m \u001B[43m            \u001B[49m\u001B[43mfrom_fs\u001B[49m\u001B[43m,\u001B[49m\n\u001B[1;32m    340\u001B[0m \u001B[43m            \u001B[49m\u001B[43mfrom_path\u001B[49m\u001B[43m[\u001B[49m\u001B[43mi\u001B[49m\u001B[43m:\u001B[49m\u001B[43m]\u001B[49m\u001B[43m,\u001B[49m\n\u001B[1;32m    341\u001B[0m \u001B[43m            \u001B[49m\u001B[43mto_fs\u001B[49m\u001B[43m,\u001B[49m\n\u001B[1;32m    342\u001B[0m \u001B[43m            \u001B[49m\u001B[43mto_path\u001B[49m\u001B[43m[\u001B[49m\u001B[43mi\u001B[49m\u001B[43m:\u001B[49m\u001B[43m]\u001B[49m\u001B[43m,\u001B[49m\n\u001B[1;32m    343\u001B[0m \u001B[43m            \u001B[49m\u001B[43mcallback\u001B[49m\u001B[38;5;241;43m=\u001B[39;49m\u001B[43mcallback\u001B[49m\u001B[43m,\u001B[49m\n\u001B[1;32m    344\u001B[0m \u001B[43m            \u001B[49m\u001B[43mbatch_size\u001B[49m\u001B[38;5;241;43m=\u001B[39;49m\u001B[43mbatch_size\u001B[49m\u001B[43m,\u001B[49m\n\u001B[1;32m    345\u001B[0m \u001B[43m            \u001B[49m\u001B[43mon_error\u001B[49m\u001B[38;5;241;43m=\u001B[39;49m\u001B[43mon_error\u001B[49m\u001B[43m,\u001B[49m\n\u001B[1;32m    346\u001B[0m \u001B[43m        \u001B[49m\u001B[43m)\u001B[49m\n\u001B[1;32m    347\u001B[0m         \u001B[38;5;28;01mreturn\u001B[39;00m\n\u001B[1;32m    348\u001B[0m     \u001B[38;5;28;01mtry\u001B[39;00m:\n",
      "File \u001B[0;32m/mnt/host/cs234_final/venv/lib/python3.10/site-packages/dvc_objects/fs/generic.py:88\u001B[0m, in \u001B[0;36mcopy\u001B[0;34m(from_fs, from_path, to_fs, to_path, callback, batch_size, on_error)\u001B[0m\n\u001B[1;32m     85\u001B[0m     to_path \u001B[38;5;241m=\u001B[39m [to_path]\n\u001B[1;32m     87\u001B[0m \u001B[38;5;28;01mif\u001B[39;00m \u001B[38;5;28misinstance\u001B[39m(from_fs, LocalFileSystem):\n\u001B[0;32m---> 88\u001B[0m     \u001B[38;5;28;01mreturn\u001B[39;00m \u001B[43m_put\u001B[49m\u001B[43m(\u001B[49m\n\u001B[1;32m     89\u001B[0m \u001B[43m        \u001B[49m\u001B[43mfrom_path\u001B[49m\u001B[43m,\u001B[49m\n\u001B[1;32m     90\u001B[0m \u001B[43m        \u001B[49m\u001B[43mto_fs\u001B[49m\u001B[43m,\u001B[49m\n\u001B[1;32m     91\u001B[0m \u001B[43m        \u001B[49m\u001B[43mto_path\u001B[49m\u001B[43m,\u001B[49m\n\u001B[1;32m     92\u001B[0m \u001B[43m        \u001B[49m\u001B[43mcallback\u001B[49m\u001B[38;5;241;43m=\u001B[39;49m\u001B[43mcallback\u001B[49m\u001B[43m,\u001B[49m\n\u001B[1;32m     93\u001B[0m \u001B[43m        \u001B[49m\u001B[43mbatch_size\u001B[49m\u001B[38;5;241;43m=\u001B[39;49m\u001B[38;5;241;43m1\u001B[39;49m\u001B[43m \u001B[49m\u001B[38;5;28;43;01mif\u001B[39;49;00m\u001B[43m \u001B[49m\u001B[38;5;28;43misinstance\u001B[39;49m\u001B[43m(\u001B[49m\u001B[43mto_fs\u001B[49m\u001B[43m,\u001B[49m\u001B[43m \u001B[49m\u001B[43mLocalFileSystem\u001B[49m\u001B[43m)\u001B[49m\u001B[43m \u001B[49m\u001B[38;5;28;43;01melse\u001B[39;49;00m\u001B[43m \u001B[49m\u001B[43mbatch_size\u001B[49m\u001B[43m,\u001B[49m\n\u001B[1;32m     94\u001B[0m \u001B[43m        \u001B[49m\u001B[43mon_error\u001B[49m\u001B[38;5;241;43m=\u001B[39;49m\u001B[43mon_error\u001B[49m\u001B[43m,\u001B[49m\n\u001B[1;32m     95\u001B[0m \u001B[43m    \u001B[49m\u001B[43m)\u001B[49m\n\u001B[1;32m     96\u001B[0m \u001B[38;5;28;01mif\u001B[39;00m \u001B[38;5;28misinstance\u001B[39m(to_fs, LocalFileSystem):\n\u001B[1;32m     97\u001B[0m     \u001B[38;5;28;01mreturn\u001B[39;00m _get(\n\u001B[1;32m     98\u001B[0m         from_fs,\n\u001B[1;32m     99\u001B[0m         from_path,\n\u001B[0;32m   (...)\u001B[0m\n\u001B[1;32m    103\u001B[0m         on_error\u001B[38;5;241m=\u001B[39mon_error,\n\u001B[1;32m    104\u001B[0m     )\n",
      "File \u001B[0;32m/mnt/host/cs234_final/venv/lib/python3.10/site-packages/dvc_objects/fs/generic.py:186\u001B[0m, in \u001B[0;36m_put\u001B[0;34m(from_paths, to_fs, to_paths, callback, batch_size, on_error)\u001B[0m\n\u001B[1;32m    173\u001B[0m loop \u001B[38;5;241m=\u001B[39m get_loop()\n\u001B[1;32m    174\u001B[0m fut \u001B[38;5;241m=\u001B[39m asyncio\u001B[38;5;241m.\u001B[39mrun_coroutine_threadsafe(\n\u001B[1;32m    175\u001B[0m     batch_coros(\n\u001B[1;32m    176\u001B[0m         [\n\u001B[0;32m   (...)\u001B[0m\n\u001B[1;32m    184\u001B[0m     loop,\n\u001B[1;32m    185\u001B[0m )\n\u001B[0;32m--> 186\u001B[0m \u001B[38;5;28;01mfor\u001B[39;00m i, result \u001B[38;5;129;01min\u001B[39;00m \u001B[38;5;28menumerate\u001B[39m(\u001B[43mfut\u001B[49m\u001B[38;5;241;43m.\u001B[39;49m\u001B[43mresult\u001B[49m\u001B[43m(\u001B[49m\u001B[43m)\u001B[49m):\n\u001B[1;32m    187\u001B[0m     \u001B[38;5;28;01mif\u001B[39;00m \u001B[38;5;28misinstance\u001B[39m(result, \u001B[38;5;167;01mBaseException\u001B[39;00m):\n\u001B[1;32m    188\u001B[0m         \u001B[38;5;28;01mif\u001B[39;00m on_error \u001B[38;5;129;01mis\u001B[39;00m \u001B[38;5;129;01mnot\u001B[39;00m \u001B[38;5;28;01mNone\u001B[39;00m:\n",
      "File \u001B[0;32m/usr/lib/python3.10/concurrent/futures/_base.py:453\u001B[0m, in \u001B[0;36mFuture.result\u001B[0;34m(self, timeout)\u001B[0m\n\u001B[1;32m    450\u001B[0m \u001B[38;5;28;01melif\u001B[39;00m \u001B[38;5;28mself\u001B[39m\u001B[38;5;241m.\u001B[39m_state \u001B[38;5;241m==\u001B[39m FINISHED:\n\u001B[1;32m    451\u001B[0m     \u001B[38;5;28;01mreturn\u001B[39;00m \u001B[38;5;28mself\u001B[39m\u001B[38;5;241m.\u001B[39m__get_result()\n\u001B[0;32m--> 453\u001B[0m \u001B[38;5;28;43mself\u001B[39;49m\u001B[38;5;241;43m.\u001B[39;49m\u001B[43m_condition\u001B[49m\u001B[38;5;241;43m.\u001B[39;49m\u001B[43mwait\u001B[49m\u001B[43m(\u001B[49m\u001B[43mtimeout\u001B[49m\u001B[43m)\u001B[49m\n\u001B[1;32m    455\u001B[0m \u001B[38;5;28;01mif\u001B[39;00m \u001B[38;5;28mself\u001B[39m\u001B[38;5;241m.\u001B[39m_state \u001B[38;5;129;01min\u001B[39;00m [CANCELLED, CANCELLED_AND_NOTIFIED]:\n\u001B[1;32m    456\u001B[0m     \u001B[38;5;28;01mraise\u001B[39;00m CancelledError()\n",
      "File \u001B[0;32m/usr/lib/python3.10/threading.py:320\u001B[0m, in \u001B[0;36mCondition.wait\u001B[0;34m(self, timeout)\u001B[0m\n\u001B[1;32m    318\u001B[0m \u001B[38;5;28;01mtry\u001B[39;00m:    \u001B[38;5;66;03m# restore state no matter what (e.g., KeyboardInterrupt)\u001B[39;00m\n\u001B[1;32m    319\u001B[0m     \u001B[38;5;28;01mif\u001B[39;00m timeout \u001B[38;5;129;01mis\u001B[39;00m \u001B[38;5;28;01mNone\u001B[39;00m:\n\u001B[0;32m--> 320\u001B[0m         \u001B[43mwaiter\u001B[49m\u001B[38;5;241;43m.\u001B[39;49m\u001B[43macquire\u001B[49m\u001B[43m(\u001B[49m\u001B[43m)\u001B[49m\n\u001B[1;32m    321\u001B[0m         gotit \u001B[38;5;241m=\u001B[39m \u001B[38;5;28;01mTrue\u001B[39;00m\n\u001B[1;32m    322\u001B[0m     \u001B[38;5;28;01melse\u001B[39;00m:\n",
      "\u001B[0;31mKeyboardInterrupt\u001B[0m: "
     ]
    }
   ],
   "source": [
    "# add log to dvc\n",
    "repo = Repo(\".\")\n",
    "OUTPUT_PATH=\"/mnt/host/cs234_final/alfred/output/bigscience/bloom-560m,torch_dtype=float16/epoch=1000\"\n",
    "repo.add(OUTPUT_PATH)\n",
    "repo.push()"
   ]
  },
  {
   "cell_type": "code",
   "execution_count": 14,
   "id": "initial_id",
   "metadata": {
    "ExecuteTime": {
     "end_time": "2024-06-02T22:13:49.238264Z",
     "start_time": "2024-06-02T22:13:49.236027Z"
    }
   },
   "outputs": [],
   "source": [
    "# load the fine-tuned model\n",
    "model = AutoModelForCausalLM.from_pretrained(OUTPUT_DIR)"
   ]
  },
  {
   "cell_type": "code",
   "execution_count": null,
   "id": "b7d082bf-1fd6-4faf-bda4-31122e40b3c9",
   "metadata": {},
   "outputs": [],
   "source": []
  }
 ],
 "metadata": {
  "kernelspec": {
   "display_name": "Python 3 (ipykernel)",
   "language": "python",
   "name": "python3"
  },
  "language_info": {
   "codemirror_mode": {
    "name": "ipython",
    "version": 3
   },
   "file_extension": ".py",
   "mimetype": "text/x-python",
   "name": "python",
   "nbconvert_exporter": "python",
   "pygments_lexer": "ipython3",
   "version": "3.10.12"
  }
 },
 "nbformat": 4,
 "nbformat_minor": 5
}
